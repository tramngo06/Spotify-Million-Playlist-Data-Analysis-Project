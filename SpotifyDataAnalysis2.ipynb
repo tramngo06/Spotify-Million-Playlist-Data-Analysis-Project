{
 "cells": [
  {
   "cell_type": "markdown",
   "id": "7053e062-c81e-4db9-8ca7-e66fcc51198f",
   "metadata": {},
   "source": [
    "# Spotify Data Analysis Project\n",
    "## 1. Overview about the project \n",
    "##### \"The Spotify Million Playlist Dataset Challenge consists of a dataset and evaluation to enable research in music recommendations. It is a continuation of the RecSys Challenge 2018, which ran from January to July 2018. \n",
    "##### **Goal:** Develop a system which takes a playlist, and predict the next songs on the playlist.\n",
    "##### **Dataset:** https://www.aicrowd.com/challenges/spotify-million-playlist-dataset-challenge#dataset"
   ]
  },
  {
   "cell_type": "markdown",
   "id": "b5d8c2f5-bb38-49f9-8876-08d9e96d8a2a",
   "metadata": {},
   "source": [
    "## 2. Load The Dataset: Using Apache Sparks to Load All 1000 Files.\n",
    "**Note**: Below are the steps to convert json data into a suitale structured format to analyze in Apache Sparks. "
   ]
  },
  {
   "cell_type": "code",
   "execution_count": 174,
   "id": "a3778ac2-d9ea-4770-b8ac-6774a3c6c483",
   "metadata": {
    "collapsed": true,
    "jupyter": {
     "outputs_hidden": true,
     "source_hidden": true
    },
    "scrolled": true
   },
   "outputs": [
    {
     "name": "stdout",
     "output_type": "stream",
     "text": [
      "Defaulting to user installation because normal site-packages is not writeable\n",
      "Requirement already satisfied: pandas in /usr/lib64/python3.11/site-packages (1.5.3)\n",
      "Requirement already satisfied: sqlalchemy in /usr/lib64/python3.11/site-packages (1.4.50)\n",
      "Collecting pyspark\n",
      "  Downloading pyspark-3.5.1.tar.gz (317.0 MB)\n",
      "\u001b[2K     \u001b[90m━━━━━━━━━━━━━━━━━━━━━━━━━━━━━━━━━━━━━━━\u001b[0m \u001b[32m317.0/317.0 MB\u001b[0m \u001b[31m1.6 MB/s\u001b[0m eta \u001b[36m0:00:00\u001b[0m00:01\u001b[0m00:01\u001b[0m\n",
      "\u001b[?25h  Preparing metadata (setup.py) ... \u001b[?25ldone\n",
      "\u001b[?25hRequirement already satisfied: python-dateutil>=2.8.1 in /usr/lib/python3.11/site-packages (from pandas) (2.8.2)\n",
      "Requirement already satisfied: pytz>=2020.1 in /usr/lib/python3.11/site-packages (from pandas) (2023.3.post1)\n",
      "Requirement already satisfied: numpy>=1.21.0 in /usr/lib64/python3.11/site-packages (from pandas) (1.24.3)\n",
      "Requirement already satisfied: greenlet!=0.4.17 in /usr/lib64/python3.11/site-packages (from sqlalchemy) (1.1.2)\n",
      "Collecting py4j==0.10.9.7\n",
      "  Downloading py4j-0.10.9.7-py2.py3-none-any.whl (200 kB)\n",
      "\u001b[2K     \u001b[90m━━━━━━━━━━━━━━━━━━━━━━━━━━━━━━━━━━━━━━\u001b[0m \u001b[32m200.5/200.5 kB\u001b[0m \u001b[31m27.3 MB/s\u001b[0m eta \u001b[36m0:00:00\u001b[0m\n",
      "\u001b[?25hRequirement already satisfied: six>=1.5 in /usr/lib/python3.11/site-packages (from python-dateutil>=2.8.1->pandas) (1.16.0)\n",
      "Using legacy 'setup.py install' for pyspark, since package 'wheel' is not installed.\n",
      "Installing collected packages: py4j, pyspark\n",
      "  Running setup.py install for pyspark ... \u001b[?25ldone\n",
      "\u001b[?25hSuccessfully installed py4j-0.10.9.7 pyspark-3.5.1\n"
     ]
    }
   ],
   "source": [
    "!pip install pandas sqlalchemy pyspark "
   ]
  },
  {
   "cell_type": "code",
   "execution_count": 1,
   "id": "87342899-dcff-4949-b6ea-49a1d892169d",
   "metadata": {
    "collapsed": true,
    "jupyter": {
     "outputs_hidden": true,
     "source_hidden": true
    }
   },
   "outputs": [
    {
     "name": "stderr",
     "output_type": "stream",
     "text": [
      "Setting default log level to \"WARN\".\n",
      "To adjust logging level use sc.setLogLevel(newLevel). For SparkR, use setLogLevel(newLevel).\n",
      "24/06/30 16:58:37 WARN NativeCodeLoader: Unable to load native-hadoop library for your platform... using builtin-java classes where applicable\n"
     ]
    }
   ],
   "source": [
    "from pyspark.sql import SparkSession\n",
    "spark = SparkSession.builder.appName(\"SpotifyDataAnalysis\").getOrCreate()"
   ]
  },
  {
   "cell_type": "code",
   "execution_count": 2,
   "id": "07be09e4-eb6d-4b2c-acfc-eab6b3526028",
   "metadata": {
    "jupyter": {
     "source_hidden": true
    }
   },
   "outputs": [
    {
     "name": "stderr",
     "output_type": "stream",
     "text": [
      "                                                                                \r"
     ]
    }
   ],
   "source": [
    "#drop any corrupt record (it occurs while sparks parsing the dataset there are some unexpected issues)\n",
    "df = spark.read.option(\"mode\", \"DROPMALFORMED\").json('/home/student/ttngo/SpotifyDataProject/data/mpd.slice.*.json')"
   ]
  },
  {
   "cell_type": "markdown",
   "id": "90fc6d90-2ac9-4191-8b37-7ff3d20498b8",
   "metadata": {},
   "source": [
    "#### Lets Try With A Subset of Dataset fiest (24 files)"
   ]
  },
  {
   "cell_type": "code",
   "execution_count": 8,
   "id": "6b65b8bb-b432-4936-abf4-497a80b29be0",
   "metadata": {},
   "outputs": [],
   "source": [
    "import os\n",
    "import json\n",
    "directory = \"/home/student/ttngo/SpotifyDataProject/data/\"\n",
    "# Get a list of all JSON files in the directory\n",
    "files = [os.path.join(directory, f) for f in os.listdir(directory) if f.endswith('.json')]\n",
    "files_subset = files[:24]"
   ]
  },
  {
   "cell_type": "code",
   "execution_count": 64,
   "id": "0428379e-e454-44e2-b8dc-57b9d74d1165",
   "metadata": {},
   "outputs": [],
   "source": [
    "data = []\n",
    "\n",
    "# Loop through each file in the subset\n",
    "for file in files_subset:\n",
    "    # Open each file\n",
    "    with open(file, 'r') as f:\n",
    "        # Load the data from the file and append it to the list\n",
    "        data.append(json.load(f))"
   ]
  },
  {
   "cell_type": "code",
   "execution_count": 65,
   "id": "f83b1d89-6202-44ec-a1f1-b68c3b17be16",
   "metadata": {},
   "outputs": [],
   "source": [
    "import pandas as pd\n",
    "df= pd.DataFrame(data)"
   ]
  },
  {
   "cell_type": "code",
   "execution_count": 66,
   "id": "bf3b177f-6769-42df-bdec-a53118c9a73e",
   "metadata": {},
   "outputs": [
    {
     "data": {
      "text/plain": [
       "(24, 2)"
      ]
     },
     "execution_count": 66,
     "metadata": {},
     "output_type": "execute_result"
    }
   ],
   "source": [
    "df.shape"
   ]
  },
  {
   "cell_type": "code",
   "execution_count": 67,
   "id": "8163a557-bc31-4ebd-9f79-ce73afac334f",
   "metadata": {},
   "outputs": [],
   "source": [
    "import pandas as pd\n",
    "# Initialize an empty list to store the playlists\n",
    "playlists = []\n",
    "# Loop through each file's data\n",
    "for file_data in data:\n",
    "    # Append each playlist to the list\n",
    "    playlists.extend(file_data['playlists'])\n",
    "\n",
    "# Convert the list of playlists to a DataFrame\n",
    "dataframe = pd.DataFrame(playlists)\n"
   ]
  },
  {
   "cell_type": "markdown",
   "id": "e3f96851-ce26-49e6-9bbb-39c0d0b5bf44",
   "metadata": {
    "scrolled": true
   },
   "source": [
    "## 3. Perform EDA"
   ]
  },
  {
   "cell_type": "code",
   "execution_count": 68,
   "id": "3ebbf754-1297-44b9-a65c-b01a0f71edc7",
   "metadata": {
    "scrolled": true
   },
   "outputs": [
    {
     "data": {
      "text/html": [
       "<div>\n",
       "<style scoped>\n",
       "    .dataframe tbody tr th:only-of-type {\n",
       "        vertical-align: middle;\n",
       "    }\n",
       "\n",
       "    .dataframe tbody tr th {\n",
       "        vertical-align: top;\n",
       "    }\n",
       "\n",
       "    .dataframe thead th {\n",
       "        text-align: right;\n",
       "    }\n",
       "</style>\n",
       "<table border=\"1\" class=\"dataframe\">\n",
       "  <thead>\n",
       "    <tr style=\"text-align: right;\">\n",
       "      <th></th>\n",
       "      <th>name</th>\n",
       "      <th>collaborative</th>\n",
       "      <th>pid</th>\n",
       "      <th>modified_at</th>\n",
       "      <th>num_tracks</th>\n",
       "      <th>num_albums</th>\n",
       "      <th>num_followers</th>\n",
       "      <th>tracks</th>\n",
       "      <th>num_edits</th>\n",
       "      <th>duration_ms</th>\n",
       "      <th>num_artists</th>\n",
       "      <th>description</th>\n",
       "    </tr>\n",
       "  </thead>\n",
       "  <tbody>\n",
       "    <tr>\n",
       "      <th>0</th>\n",
       "      <td>reggaeton</td>\n",
       "      <td>false</td>\n",
       "      <td>57000</td>\n",
       "      <td>1509321600</td>\n",
       "      <td>69</td>\n",
       "      <td>54</td>\n",
       "      <td>1</td>\n",
       "      <td>[{'pos': 0, 'artist_name': 'Jory Boy', 'track_...</td>\n",
       "      <td>21</td>\n",
       "      <td>15467712</td>\n",
       "      <td>39</td>\n",
       "      <td>NaN</td>\n",
       "    </tr>\n",
       "    <tr>\n",
       "      <th>1</th>\n",
       "      <td>Drops of Jupiter</td>\n",
       "      <td>false</td>\n",
       "      <td>57001</td>\n",
       "      <td>1413417600</td>\n",
       "      <td>23</td>\n",
       "      <td>21</td>\n",
       "      <td>1</td>\n",
       "      <td>[{'pos': 0, 'artist_name': 'Train', 'track_uri...</td>\n",
       "      <td>4</td>\n",
       "      <td>5410064</td>\n",
       "      <td>17</td>\n",
       "      <td>NaN</td>\n",
       "    </tr>\n",
       "    <tr>\n",
       "      <th>2</th>\n",
       "      <td>mix 2</td>\n",
       "      <td>false</td>\n",
       "      <td>57002</td>\n",
       "      <td>1508630400</td>\n",
       "      <td>111</td>\n",
       "      <td>86</td>\n",
       "      <td>1</td>\n",
       "      <td>[{'pos': 0, 'artist_name': 'Day Wave', 'track_...</td>\n",
       "      <td>58</td>\n",
       "      <td>25278639</td>\n",
       "      <td>68</td>\n",
       "      <td>NaN</td>\n",
       "    </tr>\n",
       "    <tr>\n",
       "      <th>3</th>\n",
       "      <td>my jam</td>\n",
       "      <td>false</td>\n",
       "      <td>57003</td>\n",
       "      <td>1458345600</td>\n",
       "      <td>14</td>\n",
       "      <td>14</td>\n",
       "      <td>1</td>\n",
       "      <td>[{'pos': 0, 'artist_name': 'One Direction', 't...</td>\n",
       "      <td>6</td>\n",
       "      <td>2850222</td>\n",
       "      <td>14</td>\n",
       "      <td>NaN</td>\n",
       "    </tr>\n",
       "    <tr>\n",
       "      <th>4</th>\n",
       "      <td>🇺🇸🇺🇸🇺🇸</td>\n",
       "      <td>false</td>\n",
       "      <td>57004</td>\n",
       "      <td>1501804800</td>\n",
       "      <td>25</td>\n",
       "      <td>24</td>\n",
       "      <td>4</td>\n",
       "      <td>[{'pos': 0, 'artist_name': 'Nappy Roots', 'tra...</td>\n",
       "      <td>4</td>\n",
       "      <td>5471495</td>\n",
       "      <td>20</td>\n",
       "      <td>NaN</td>\n",
       "    </tr>\n",
       "  </tbody>\n",
       "</table>\n",
       "</div>"
      ],
      "text/plain": [
       "               name collaborative    pid  modified_at  num_tracks  num_albums  \\\n",
       "0         reggaeton         false  57000   1509321600          69          54   \n",
       "1  Drops of Jupiter         false  57001   1413417600          23          21   \n",
       "2             mix 2         false  57002   1508630400         111          86   \n",
       "3           my jam          false  57003   1458345600          14          14   \n",
       "4            🇺🇸🇺🇸🇺🇸         false  57004   1501804800          25          24   \n",
       "\n",
       "   num_followers                                             tracks  \\\n",
       "0              1  [{'pos': 0, 'artist_name': 'Jory Boy', 'track_...   \n",
       "1              1  [{'pos': 0, 'artist_name': 'Train', 'track_uri...   \n",
       "2              1  [{'pos': 0, 'artist_name': 'Day Wave', 'track_...   \n",
       "3              1  [{'pos': 0, 'artist_name': 'One Direction', 't...   \n",
       "4              4  [{'pos': 0, 'artist_name': 'Nappy Roots', 'tra...   \n",
       "\n",
       "   num_edits  duration_ms  num_artists description  \n",
       "0         21     15467712           39         NaN  \n",
       "1          4      5410064           17         NaN  \n",
       "2         58     25278639           68         NaN  \n",
       "3          6      2850222           14         NaN  \n",
       "4          4      5471495           20         NaN  "
      ]
     },
     "execution_count": 68,
     "metadata": {},
     "output_type": "execute_result"
    }
   ],
   "source": [
    "dataframe.head()"
   ]
  },
  {
   "cell_type": "markdown",
   "id": "24d70d00-9d8e-4453-b749-eaab6a28f4cc",
   "metadata": {},
   "source": [
    "#### UNDERSTANDING THE STRUCTURE OF THE DATA"
   ]
  },
  {
   "cell_type": "code",
   "execution_count": 69,
   "id": "e68f3e94-65c0-4821-92ee-e8eab9f9cf8b",
   "metadata": {},
   "outputs": [
    {
     "name": "stdout",
     "output_type": "stream",
     "text": [
      "<class 'pandas.core.frame.DataFrame'>\n",
      "RangeIndex: 24000 entries, 0 to 23999\n",
      "Data columns (total 12 columns):\n",
      " #   Column         Non-Null Count  Dtype \n",
      "---  ------         --------------  ----- \n",
      " 0   name           24000 non-null  object\n",
      " 1   collaborative  24000 non-null  object\n",
      " 2   pid            24000 non-null  int64 \n",
      " 3   modified_at    24000 non-null  int64 \n",
      " 4   num_tracks     24000 non-null  int64 \n",
      " 5   num_albums     24000 non-null  int64 \n",
      " 6   num_followers  24000 non-null  int64 \n",
      " 7   tracks         24000 non-null  object\n",
      " 8   num_edits      24000 non-null  int64 \n",
      " 9   duration_ms    24000 non-null  int64 \n",
      " 10  num_artists    24000 non-null  int64 \n",
      " 11  description    447 non-null    object\n",
      "dtypes: int64(8), object(4)\n",
      "memory usage: 2.2+ MB\n"
     ]
    }
   ],
   "source": [
    "dataframe.info()"
   ]
  },
  {
   "cell_type": "markdown",
   "id": "3f7938a8-c507-42f4-832c-22731684f695",
   "metadata": {},
   "source": [
    "#### SUMMARIZE THE STATISTICS"
   ]
  },
  {
   "cell_type": "code",
   "execution_count": 33,
   "id": "73573672-84d7-446e-a8c5-a3bf82974ada",
   "metadata": {},
   "outputs": [
    {
     "data": {
      "text/html": [
       "<div>\n",
       "<style scoped>\n",
       "    .dataframe tbody tr th:only-of-type {\n",
       "        vertical-align: middle;\n",
       "    }\n",
       "\n",
       "    .dataframe tbody tr th {\n",
       "        vertical-align: top;\n",
       "    }\n",
       "\n",
       "    .dataframe thead th {\n",
       "        text-align: right;\n",
       "    }\n",
       "</style>\n",
       "<table border=\"1\" class=\"dataframe\">\n",
       "  <thead>\n",
       "    <tr style=\"text-align: right;\">\n",
       "      <th></th>\n",
       "      <th>pid</th>\n",
       "      <th>modified_at</th>\n",
       "      <th>num_tracks</th>\n",
       "      <th>num_albums</th>\n",
       "      <th>num_followers</th>\n",
       "      <th>num_edits</th>\n",
       "      <th>duration_ms</th>\n",
       "      <th>num_artists</th>\n",
       "    </tr>\n",
       "  </thead>\n",
       "  <tbody>\n",
       "    <tr>\n",
       "      <th>count</th>\n",
       "      <td>24000.000000</td>\n",
       "      <td>2.400000e+04</td>\n",
       "      <td>24000.000000</td>\n",
       "      <td>24000.000000</td>\n",
       "      <td>24000.000000</td>\n",
       "      <td>24000.00000</td>\n",
       "      <td>2.400000e+04</td>\n",
       "      <td>24000.000000</td>\n",
       "    </tr>\n",
       "    <tr>\n",
       "      <th>mean</th>\n",
       "      <td>502666.166667</td>\n",
       "      <td>1.476655e+09</td>\n",
       "      <td>66.897417</td>\n",
       "      <td>49.988458</td>\n",
       "      <td>2.317708</td>\n",
       "      <td>17.77175</td>\n",
       "      <td>1.570038e+07</td>\n",
       "      <td>38.523333</td>\n",
       "    </tr>\n",
       "    <tr>\n",
       "      <th>std</th>\n",
       "      <td>256979.358098</td>\n",
       "      <td>3.624455e+07</td>\n",
       "      <td>53.972165</td>\n",
       "      <td>40.356282</td>\n",
       "      <td>51.619976</td>\n",
       "      <td>20.65925</td>\n",
       "      <td>1.303462e+07</td>\n",
       "      <td>30.818268</td>\n",
       "    </tr>\n",
       "    <tr>\n",
       "      <th>min</th>\n",
       "      <td>57000.000000</td>\n",
       "      <td>1.304208e+09</td>\n",
       "      <td>5.000000</td>\n",
       "      <td>2.000000</td>\n",
       "      <td>1.000000</td>\n",
       "      <td>2.00000</td>\n",
       "      <td>8.313910e+05</td>\n",
       "      <td>3.000000</td>\n",
       "    </tr>\n",
       "    <tr>\n",
       "      <th>25%</th>\n",
       "      <td>315749.750000</td>\n",
       "      <td>1.459642e+09</td>\n",
       "      <td>26.000000</td>\n",
       "      <td>20.000000</td>\n",
       "      <td>1.000000</td>\n",
       "      <td>5.00000</td>\n",
       "      <td>6.047151e+06</td>\n",
       "      <td>16.000000</td>\n",
       "    </tr>\n",
       "    <tr>\n",
       "      <th>50%</th>\n",
       "      <td>529499.500000</td>\n",
       "      <td>1.490227e+09</td>\n",
       "      <td>50.000000</td>\n",
       "      <td>38.000000</td>\n",
       "      <td>1.000000</td>\n",
       "      <td>10.00000</td>\n",
       "      <td>1.153985e+07</td>\n",
       "      <td>30.000000</td>\n",
       "    </tr>\n",
       "    <tr>\n",
       "      <th>75%</th>\n",
       "      <td>699249.250000</td>\n",
       "      <td>1.505434e+09</td>\n",
       "      <td>92.000000</td>\n",
       "      <td>68.000000</td>\n",
       "      <td>1.000000</td>\n",
       "      <td>23.00000</td>\n",
       "      <td>2.155395e+07</td>\n",
       "      <td>52.000000</td>\n",
       "    </tr>\n",
       "    <tr>\n",
       "      <th>max</th>\n",
       "      <td>946999.000000</td>\n",
       "      <td>1.509494e+09</td>\n",
       "      <td>250.000000</td>\n",
       "      <td>239.000000</td>\n",
       "      <td>6611.000000</td>\n",
       "      <td>184.00000</td>\n",
       "      <td>3.280194e+08</td>\n",
       "      <td>224.000000</td>\n",
       "    </tr>\n",
       "  </tbody>\n",
       "</table>\n",
       "</div>"
      ],
      "text/plain": [
       "                 pid   modified_at    num_tracks    num_albums  num_followers  \\\n",
       "count   24000.000000  2.400000e+04  24000.000000  24000.000000   24000.000000   \n",
       "mean   502666.166667  1.476655e+09     66.897417     49.988458       2.317708   \n",
       "std    256979.358098  3.624455e+07     53.972165     40.356282      51.619976   \n",
       "min     57000.000000  1.304208e+09      5.000000      2.000000       1.000000   \n",
       "25%    315749.750000  1.459642e+09     26.000000     20.000000       1.000000   \n",
       "50%    529499.500000  1.490227e+09     50.000000     38.000000       1.000000   \n",
       "75%    699249.250000  1.505434e+09     92.000000     68.000000       1.000000   \n",
       "max    946999.000000  1.509494e+09    250.000000    239.000000    6611.000000   \n",
       "\n",
       "         num_edits   duration_ms   num_artists  \n",
       "count  24000.00000  2.400000e+04  24000.000000  \n",
       "mean      17.77175  1.570038e+07     38.523333  \n",
       "std       20.65925  1.303462e+07     30.818268  \n",
       "min        2.00000  8.313910e+05      3.000000  \n",
       "25%        5.00000  6.047151e+06     16.000000  \n",
       "50%       10.00000  1.153985e+07     30.000000  \n",
       "75%       23.00000  2.155395e+07     52.000000  \n",
       "max      184.00000  3.280194e+08    224.000000  "
      ]
     },
     "execution_count": 33,
     "metadata": {},
     "output_type": "execute_result"
    }
   ],
   "source": [
    "dataframe.describe()"
   ]
  },
  {
   "cell_type": "code",
   "execution_count": 36,
   "id": "617d9cc3-96d3-460f-8db5-917205ee2278",
   "metadata": {},
   "outputs": [],
   "source": [
    "import pandas as pd\n",
    "import matplotlib.pyplot as plt\n",
    "import seaborn as sns"
   ]
  },
  {
   "cell_type": "markdown",
   "id": "e74ab6d4-499b-4a89-b883-c483bf840acf",
   "metadata": {},
   "source": [
    "#### VISUALIZE THE DATA"
   ]
  },
  {
   "cell_type": "code",
   "execution_count": 70,
   "id": "d6968aa4-dc1b-47a7-b138-28c25ee6196e",
   "metadata": {},
   "outputs": [
    {
     "data": {
      "image/png": "[encoded data removed]",
      "text/plain": [
       "<Figure size 720x432 with 1 Axes>"
      ]
     },
     "metadata": {
      "needs_background": "light"
     },
     "output_type": "display_data"
    }
   ],
   "source": [
    "top_playlists = dataframe.nlargest(50, 'num_followers')\n",
    "\n",
    "# Bar plot of the number of followers in top 50 playlists\n",
    "plt.figure(figsize=(10, 6))\n",
    "sns.barplot(x='name', y='num_followers', data=top_playlists)\n",
    "plt.title('Top 50 Popular Playlists')\n",
    "plt.xlabel('Playlist Name')\n",
    "plt.ylabel('Number of Followers')\n",
    "plt.xticks(rotation=90)\n",
    "plt.show()\n"
   ]
  },
  {
   "cell_type": "code",
   "execution_count": 71,
   "id": "03f24c33-cf75-4075-be3d-6a9a35dc58b4",
   "metadata": {},
   "outputs": [
    {
     "data": {
      "image/png": "[encoded data removed]",
      "text/plain": [
       "<Figure size 720x432 with 1 Axes>"
      ]
     },
     "metadata": {
      "needs_background": "light"
     },
     "output_type": "display_data"
    }
   ],
   "source": [
    "# 2. Histogram of the number of albums in each playlist\n",
    "plt.figure(figsize=(10, 6))\n",
    "sns.histplot(dataframe['num_albums'], bins=30, kde=True)\n",
    "plt.title('Number of Albums in Each Playlist')\n",
    "plt.xlabel('Number of Albums')\n",
    "plt.ylabel('Count')\n",
    "plt.show()\n"
   ]
  },
  {
   "cell_type": "markdown",
   "id": "8703087a-2560-4c06-a44a-8ebe1d18c7e2",
   "metadata": {},
   "source": [
    "## 4. Requesting More Information From Spotify API"
   ]
  },
  {
   "cell_type": "code",
   "execution_count": 44,
   "id": "e7d9291a-f7e9-4fa5-a6df-b9a80202ff1a",
   "metadata": {},
   "outputs": [],
   "source": [
    "client_id = 'c468fcc1bfb343a5972d0fae6cc23802'\n",
    "client_secret ='2d996f020fe644f0b5e53fa257414c2e'"
   ]
  },
  {
   "cell_type": "code",
   "execution_count": 45,
   "id": "87a0bc57-6c41-4b94-ae57-9bccd8cca15e",
   "metadata": {
    "jupyter": {
     "source_hidden": true
    }
   },
   "outputs": [
    {
     "name": "stdout",
     "output_type": "stream",
     "text": [
      "Access token: BQCgCgkhy7KKywzYBC8tLIqPMiHJExef0F5z2lxPleYf62PVZt15NOvzC6OXNHOlvGLby2UgbDGQyK4eS1VJ_HcFFP4P9501Xv-0TN80N6CSjySh4SE\n"
     ]
    }
   ],
   "source": [
    "import requests\n",
    "# Define the endpoint\n",
    "url = 'https://accounts.spotify.com/api/token'\n",
    "# Define the headers\n",
    "headers = {\n",
    "    'Content-Type': 'application/x-www-form-urlencoded',\n",
    "}\n",
    "# Define the data\n",
    "data = {\n",
    "    'grant_type': 'client_credentials',\n",
    "    'client_id': client_id,\n",
    "    'client_secret': client_secret,\n",
    "}\n",
    "\n",
    "# Make the POST request\n",
    "response = requests.post(url, headers=headers, data=data)\n",
    "\n",
    "# Get the access token from the response\n",
    "access_token = response.json()['access_token']\n",
    "\n",
    "# Print the access token\n",
    "print('Access token:', access_token)\n"
   ]
  },
  {
   "cell_type": "markdown",
   "id": "b0d920fd-3b0c-4450-953d-be815c471ce6",
   "metadata": {},
   "source": [
    "### Request Artists Information\n",
    "**Note:** genres, popularity, followers"
   ]
  },
  {
   "cell_type": "code",
   "execution_count": 46,
   "id": "700423c5-2196-4160-92f1-d764db58d381",
   "metadata": {},
   "outputs": [],
   "source": [
    "def fetch_artist_info(artist_id, access_token):\n",
    "    url = f'https://api.spotify.com/v1/artists/{artist_id}'\n",
    "    headers = {\n",
    "        'Authorization': f'Bearer {access_token}'\n",
    "    }\n",
    "    response = requests.get(url, headers=headers)\n",
    "    return response.json()"
   ]
  },
  {
   "cell_type": "code",
   "execution_count": 47,
   "id": "c3ab0022-2eb7-4d50-86ce-b5331d3e2455",
   "metadata": {},
   "outputs": [
    {
     "name": "stdout",
     "output_type": "stream",
     "text": [
      "Artist Info: {'external_urls': {'spotify': 'https://open.spotify.com/artist/2YZyLoL8N0Wb9xBt1NhZWg'}, 'followers': {'href': None, 'total': 30314870}, 'genres': ['conscious hip hop', 'hip hop', 'rap', 'west coast rap'], 'href': 'https://api.spotify.com/v1/artists/2YZyLoL8N0Wb9xBt1NhZWg', 'id': '2YZyLoL8N0Wb9xBt1NhZWg', 'images': [{'height': 640, 'url': 'https://i.scdn.co/image/ab6761610000e5eb437b9e2a82505b3d93ff1022', 'width': 640}, {'height': 320, 'url': 'https://i.scdn.co/image/ab67616100005174437b9e2a82505b3d93ff1022', 'width': 320}, {'height': 160, 'url': 'https://i.scdn.co/image/ab6761610000f178437b9e2a82505b3d93ff1022', 'width': 160}], 'name': 'Kendrick Lamar', 'popularity': 92, 'type': 'artist', 'uri': 'spotify:artist:2YZyLoL8N0Wb9xBt1NhZWg'}\n"
     ]
    }
   ],
   "source": [
    "# Fetch Kendrick Lamar information\n",
    "artist_uri = 'spotify:artist:2YZyLoL8N0Wb9xBt1NhZWg'\n",
    "artist_id = artist_uri.split(':')[-1]\n",
    "artist_info = fetch_artist_info(artist_id, access_token)\n",
    "print(\"Artist Info:\", artist_info)"
   ]
  },
  {
   "cell_type": "markdown",
   "id": "272ee5e9-3021-4db5-98dc-a774d946fbf3",
   "metadata": {},
   "source": [
    "### Request Tracks Audio Features"
   ]
  },
  {
   "cell_type": "code",
   "execution_count": 48,
   "id": "c0983efd-5d10-4a4a-b3ae-983ffa58500b",
   "metadata": {},
   "outputs": [],
   "source": [
    "# Fetch track audio features\n",
    "def fetch_audio_features(track_id, access_token):\n",
    "    url = f'https://api.spotify.com/v1/audio-features/{track_id}'\n",
    "    headers = {\n",
    "        'Authorization': f'Bearer {access_token}'\n",
    "    }\n",
    "    response = requests.get(url, headers=headers)\n",
    "    return response.json()"
   ]
  },
  {
   "cell_type": "code",
   "execution_count": 53,
   "id": "91edcc59-3f21-47c1-8c10-a7c955050dc9",
   "metadata": {},
   "outputs": [
    {
     "name": "stdout",
     "output_type": "stream",
     "text": [
      "Audio Features: {'danceability': 0.898, 'energy': 0.472, 'key': 1, 'loudness': -7.001, 'mode': 1, 'speechiness': 0.0776, 'acousticness': 0.0107, 'instrumentalness': 0, 'liveness': 0.141, 'valence': 0.214, 'tempo': 101.061, 'type': 'audio_features', 'id': '6AI3ezQ4o3HUoP6Dhudph3', 'uri': 'spotify:track:6AI3ezQ4o3HUoP6Dhudph3', 'track_href': 'https://api.spotify.com/v1/tracks/6AI3ezQ4o3HUoP6Dhudph3', 'analysis_url': 'https://api.spotify.com/v1/audio-analysis/6AI3ezQ4o3HUoP6Dhudph3', 'duration_ms': 274192, 'time_signature': 4}\n"
     ]
    }
   ],
   "source": [
    "# Example information of the song: Not Like Us - Kendric Lamar\n",
    "track_uri = 'spotify:track:6AI3ezQ4o3HUoP6Dhudph3'\n",
    "track_id = track_uri.split(':')[-1]\n",
    "audio_features = fetch_audio_features(track_id, access_token)\n",
    "print(\"Audio Features:\", audio_features)"
   ]
  },
  {
   "cell_type": "markdown",
   "id": "91d98ba6-5f34-46ae-8deb-09ccc3cc5374",
   "metadata": {},
   "source": [
    "### Request Tracks Popularity"
   ]
  },
  {
   "cell_type": "code",
   "execution_count": 49,
   "id": "b2606821-b09e-43d5-85f9-0f34c1abdf2f",
   "metadata": {},
   "outputs": [],
   "source": [
    "def fetch_track_popularity(track_id, access_token):\n",
    "    url = f'https://api.spotify.com/v1/tracks/{track_id}'\n",
    "    headers = {\n",
    "        'Authorization': f'Bearer {access_token}'\n",
    "    }\n",
    "    response = requests.get(url, headers=headers)\n",
    "    return response.json()['popularity']"
   ]
  },
  {
   "cell_type": "code",
   "execution_count": 54,
   "id": "939e6459-19d3-499b-a142-772a4eebc9bc",
   "metadata": {},
   "outputs": [
    {
     "name": "stdout",
     "output_type": "stream",
     "text": [
      "Track Popularity: 95\n"
     ]
    }
   ],
   "source": [
    "track_popularity = fetch_track_popularity(track_id, access_token)\n",
    "print(\"Track Popularity:\", track_popularity)"
   ]
  },
  {
   "cell_type": "markdown",
   "id": "53466b94-9d77-47cd-ad3d-fc26eba28577",
   "metadata": {},
   "source": [
    "### Request Albulm Information"
   ]
  },
  {
   "cell_type": "code",
   "execution_count": 50,
   "id": "972393f4-606d-4d5e-b964-9b90e669d397",
   "metadata": {},
   "outputs": [],
   "source": [
    "def fetch_album_info(album_id, access_token):\n",
    "    url = f'https://api.spotify.com/v1/albums/{album_id}'\n",
    "    headers = {\n",
    "        'Authorization': f'Bearer {access_token}'\n",
    "    }\n",
    "    response = requests.get(url, headers=headers)\n",
    "    return response.json()"
   ]
  },
  {
   "cell_type": "markdown",
   "id": "b61aef9e-8c4f-4426-86f7-5848c771bd58",
   "metadata": {},
   "source": [
    "## 5. Create SQl Database \n",
    "**Note:** These database will store all the information about these table: Playlists, Artists, Tracks, Playlists_Tracks, Albums (including the additonal informations just requested)"
   ]
  },
  {
   "cell_type": "code",
   "execution_count": 56,
   "id": "7c8ec602-ea81-4248-9804-7c6e33556dee",
   "metadata": {},
   "outputs": [],
   "source": [
    "import sqlite3"
   ]
  },
  {
   "cell_type": "markdown",
   "id": "7d6f6e46-21cf-410f-8bd1-885263812c0c",
   "metadata": {},
   "source": [
    "### 5.1 Playlist Tables"
   ]
  },
  {
   "cell_type": "code",
   "execution_count": 72,
   "id": "2fad1584-a16f-42f8-9da3-6e085f82760c",
   "metadata": {},
   "outputs": [
    {
     "name": "stdout",
     "output_type": "stream",
     "text": [
      "Table 'Playlists' created successfully.\n"
     ]
    }
   ],
   "source": [
    "conn = sqlite3.connect('sql.db')\n",
    "cur = conn.cursor()\n",
    "#CREATE\n",
    "create_playlist_table = '''\n",
    "CREATE TABLE IF NOT EXISTS Playlists (\n",
    "    pid INT PRIMARY KEY,\n",
    "    name TEXT,\n",
    "    collaborative TEXT,\n",
    "    modified_at INT,\n",
    "    num_tracks INT,\n",
    "    num_albums INT,\n",
    "    num_followers INT\n",
    "    )\n",
    "    '''\n",
    "cur.execute(create_playlist_table)\n",
    "conn.commit()\n",
    "print(\"Table 'Playlists' created successfully.\")"
   ]
  },
  {
   "cell_type": "code",
   "execution_count": 88,
   "id": "2673fdfd-2507-4d11-8733-033115c3d25d",
   "metadata": {},
   "outputs": [],
   "source": [
    "conn = sqlite3.connect('sql.db')\n",
    "cur = conn.cursor()\n",
    "playlists_data = []\n",
    "for element in data:\n",
    "    playlists = element.get('playlists', [])\n",
    "    \n",
    "        # Iterate through each playlist in the playlists list\n",
    "    for playlist in playlists:\n",
    "        playlists_data.append((\n",
    "            playlist['pid'],\n",
    "            playlist['name'],\n",
    "            playlist['collaborative'],\n",
    "            playlist['modified_at'],\n",
    "            playlist['num_tracks'],\n",
    "            playlist['num_albums'],\n",
    "            playlist['num_followers']\n",
    "        ))             \n",
    "    # Insert data into Playlists table\n",
    "insert_query = '''\n",
    "    INSERT OR IGNORE INTO Playlists (pid, name, collaborative, modified_at, num_tracks, num_albums, num_followers)\n",
    "    VALUES (?, ?, ?, ?, ?, ?, ?)\n",
    "    '''\n",
    "cur.executemany(insert_query, playlists_data)\n",
    "conn.commit()\n",
    "conn.close()"
   ]
  },
  {
   "cell_type": "markdown",
   "id": "a64dbba8-67d7-44d0-b176-c151d72e411b",
   "metadata": {},
   "source": [
    "**Checking**: The total rows in this Playlists table should be 24k because there are 24 json files and each files contains 1000 playlists."
   ]
  },
  {
   "cell_type": "code",
   "execution_count": 92,
   "id": "7def3064-12db-4ee5-aebc-bea402cbcbfc",
   "metadata": {},
   "outputs": [
    {
     "data": {
      "text/plain": [
       "24000"
      ]
     },
     "execution_count": 92,
     "metadata": {},
     "output_type": "execute_result"
    }
   ],
   "source": [
    "len(playlists_data)"
   ]
  },
  {
   "cell_type": "code",
   "execution_count": 100,
   "id": "24595573-b344-4272-b8fa-190f3a79b5d9",
   "metadata": {},
   "outputs": [
    {
     "name": "stdout",
     "output_type": "stream",
     "text": [
      "Number of rows in the Playlists table: 24000\n"
     ]
    }
   ],
   "source": [
    "#CHECK THE SIZE OF TABLE (NUMBER OF ROWS)\n",
    "conn = sqlite3.connect('sql.db')\n",
    "# Create a cursor object using the connection\n",
    "cur = conn.cursor()\n",
    "\n",
    "cur.execute('SELECT COUNT(*) FROM Playlists')\n",
    "row_count = cur.fetchone()[0]\n",
    "\n",
    "# Print the number of rows\n",
    "print(f'Number of rows in the Playlists table: {row_count}')\n",
    "\n",
    "# Close the cursor and connection\n",
    "cur.close()\n",
    "conn.close()"
   ]
  },
  {
   "cell_type": "markdown",
   "id": "3c6722fa-61d3-4394-9ee9-e41a58edc3bd",
   "metadata": {},
   "source": [
    "### 5.2: Tracks Tables"
   ]
  },
  {
   "cell_type": "code",
   "execution_count": 96,
   "id": "20a49fd0-b3b6-4d3f-a0fb-f08a5bb3e4aa",
   "metadata": {},
   "outputs": [],
   "source": [
    "#CREATE TABLE\n",
    "conn = sqlite3.connect('sql.db')\n",
    "cur=conn.cursor()\n",
    "\n",
    "#Create table\n",
    "create_tracks_table = '''\n",
    "CREATE TABLE IF NOT EXISTS Tracks (\n",
    "        track_uri TEXT PRIMARY KEY,\n",
    "        track_name TEXT,\n",
    "        artist_name TEXT,\n",
    "        album_name TEXT,\n",
    "        duration_ms INT,\n",
    "        popularity INT,\n",
    "        danceability REAL,\n",
    "        energy REAL,\n",
    "        key INT,\n",
    "        loudness REAL,\n",
    "        mode INT,\n",
    "        speechiness REAL,\n",
    "        acousticness REAL,\n",
    "        instrumentalness REAL,\n",
    "        liveness REAL,\n",
    "        valence REAL,\n",
    "        tempo REAL,\n",
    "        album_id TEXT,\n",
    "        artist_id TEXT,\n",
    "        FOREIGN KEY (album_id) REFERENCES Albums(album_id),\n",
    "        FOREIGN KEY (artist_id) REFERENCES Artists(artist_id)\n",
    "        )\n",
    "    '''\n",
    "cur.execute(create_tracks_table)\n",
    "conn.commit()"
   ]
  },
  {
   "cell_type": "code",
   "execution_count": 98,
   "id": "8b596d75-0a42-49e1-ba63-26f7f5916366",
   "metadata": {},
   "outputs": [],
   "source": [
    "conn = sqlite3.connect('sql.db')\n",
    "cur = conn.cursor()\n",
    "tracks_data = []\n",
    "for element in data:\n",
    "    playlists = element.get('playlists', [])\n",
    "    \n",
    "        # Iterate through each playlist in the playlists list\n",
    "    for playlist in playlists:\n",
    "        tracks = playlist.get('tracks', [])\n",
    "        for track in tracks:\n",
    "            tracks_data.append((\n",
    "                    track['track_uri'],\n",
    "                    track['track_name'],\n",
    "                    track['artist_name'],\n",
    "                    track['album_name'],\n",
    "                    track['duration_ms'],\n",
    "                    track.get('popularity', None),  # Adjust based on available data\n",
    "                    track.get('danceability', None),  # Adjust based on available data\n",
    "                    track.get('energy', None),  # Adjust based on available data\n",
    "                    track.get('key', None),  # Adjust based on available data\n",
    "                    track.get('loudness', None),  # Adjust based on available data\n",
    "                    track.get('mode', None),  # Adjust based on available data\n",
    "                    track.get('speechiness', None),  # Adjust based on available data\n",
    "                    track.get('acousticness', None),  # Adjust based on available data\n",
    "                    track.get('instrumentalness', None),  # Adjust based on available data\n",
    "                    track.get('liveness', None),  # Adjust based on available data\n",
    "                    track.get('valence', None),  # Adjust based on available data\n",
    "                    track.get('tempo', None),  # Adjust based on available data\n",
    "                    track['album_uri'].split(':')[2],  # Extract album ID from URI\n",
    "                    track['artist_uri'].split(':')[2]  # Extract artist ID from URI\n",
    "                ))\n",
    "insert_tracks_query = '''\n",
    "    INSERT OR IGNORE INTO Tracks (\n",
    "        track_uri, track_name, artist_name, album_name, duration_ms,\n",
    "        popularity, danceability, energy, key, loudness, mode, speechiness,\n",
    "        acousticness, instrumentalness, liveness, valence, tempo,\n",
    "        album_id, artist_id\n",
    "    ) VALUES (?, ?, ?, ?, ?, ?, ?, ?, ?, ?, ?, ?, ?, ?, ?, ?, ?, ?, ?)\n",
    "    '''\n",
    "cur.executemany(insert_tracks_query, tracks_data)\n",
    "conn.commit()\n",
    "cur.close()\n",
    "conn.close()      "
   ]
  },
  {
   "cell_type": "code",
   "execution_count": 99,
   "id": "09dbc10a-52a4-4e56-9ab4-f7c96456c2e5",
   "metadata": {},
   "outputs": [
    {
     "data": {
      "text/plain": [
       "1605538"
      ]
     },
     "execution_count": 99,
     "metadata": {},
     "output_type": "execute_result"
    }
   ],
   "source": [
    "len(tracks_data)"
   ]
  },
  {
   "cell_type": "code",
   "execution_count": 101,
   "id": "82116b79-e014-424c-9118-53302ca92f6b",
   "metadata": {},
   "outputs": [
    {
     "name": "stdout",
     "output_type": "stream",
     "text": [
      "Number of rows in the Tracks table: 301468\n"
     ]
    }
   ],
   "source": [
    "#CHECK THE SIZE OF TABLE (NUMBER OF ROWS)\n",
    "conn = sqlite3.connect('sql.db')\n",
    "# Create a cursor object using the connection\n",
    "cur = conn.cursor()\n",
    "\n",
    "cur.execute('SELECT COUNT(*) FROM Tracks')\n",
    "row_count = cur.fetchone()[0]\n",
    "\n",
    "# Print the number of rows\n",
    "print(f'Number of rows in the Tracks table: {row_count}')\n",
    "\n",
    "# Close the cursor and connection\n",
    "cur.close()\n",
    "conn.close()"
   ]
  },
  {
   "cell_type": "code",
   "execution_count": null,
   "id": "4103b659-0a9e-49e2-989e-099e02e5d8b6",
   "metadata": {},
   "outputs": [],
   "source": [
    "**Notes:** The length of trac"
   ]
  }
 ],
 "metadata": {
  "kernelspec": {
   "display_name": "Python 3",
   "language": "python",
   "name": "python3"
  },
  "language_info": {
   "codemirror_mode": {
    "name": "ipython",
    "version": 3
   },
   "file_extension": ".py",
   "mimetype": "text/x-python",
   "name": "python",
   "nbconvert_exporter": "python",
   "pygments_lexer": "ipython3",
   "version": "3.11.6"
  }
 },
 "nbformat": 4,
 "nbformat_minor": 5
}
