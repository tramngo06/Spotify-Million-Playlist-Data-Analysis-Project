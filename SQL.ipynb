{
 "cells": [
  {
   "cell_type": "code",
   "execution_count": 48,
   "id": "539dc8e8-eee0-46cd-aac5-a4b68739ce68",
   "metadata": {},
   "outputs": [],
   "source": [
    "import numpy as np\n",
    "import matplotlib.pyplot as plt\n",
    "import pandas as pd\n",
    "import seaborn as sns\n",
    "import json\n",
    "import sqlite3\n",
    "data = json.load(open('/home/student/ttngo/SpotifyDataProject/data/mpd.slice.0-999.json'))\n",
    "dfp = pd.DataFrame(data['playlists']) #get the dataframe from key of dictionary json"
   ]
  },
  {
   "cell_type": "markdown",
   "id": "ee750385-794c-4961-bdf4-0c9f25ca4ef8",
   "metadata": {},
   "source": [
    "**Tables to create:** playlist able(pid, name, ....), tracks table( posiition, artist_name, track_uri,....), track_playlist  table(playlist_id, track_id,pos), artists table(artist_uri, artst_name), albums table(album_id, album_name)"
   ]
  },
  {
   "cell_type": "code",
   "execution_count": 49,
   "id": "4ebe71ac-b3c9-4534-8b21-dfcdc9f4b3ec",
   "metadata": {},
   "outputs": [],
   "source": [
    "conn = sqlite3.connect('data.db')\n",
    "cur = conn.cursor()"
   ]
  },
  {
   "cell_type": "markdown",
   "id": "77fe9d16-d1d8-4b03-b63d-be15c27f1fff",
   "metadata": {},
   "source": [
    "## 1. PLaylists Table "
   ]
  },
  {
   "cell_type": "code",
   "execution_count": 50,
   "id": "d5674e9e-9f61-4d33-9967-ca9db1012805",
   "metadata": {},
   "outputs": [
    {
     "name": "stdout",
     "output_type": "stream",
     "text": [
      "Table 'Playlists' created successfully.\n"
     ]
    }
   ],
   "source": [
    "#CREATE\n",
    "create_playlist_table = '''\n",
    "CREATE TABLE IF NOT EXISTS Playlists (\n",
    "    pid INT PRIMARY KEY,\n",
    "    name TEXT,\n",
    "    collaborative TEXT,\n",
    "    modified_at INT,\n",
    "    num_tracks INT,\n",
    "    num_albums INT,\n",
    "    num_followers INT\n",
    "    )\n",
    "    '''\n",
    "cur.execute(create_playlist_table)\n",
    "conn.commit()\n",
    "print(\"Table 'Playlists' created successfully.\")"
   ]
  },
  {
   "cell_type": "code",
   "execution_count": 51,
   "id": "9643b4ea-ad8c-4f64-8a2f-41bad3af5128",
   "metadata": {},
   "outputs": [],
   "source": [
    "#INSERT VALUES\n",
    "# Prepare data for tracks insertion\n",
    "playlists_data=[]\n",
    "for playlist in data['playlists']:\n",
    "    playlists_data.append((\n",
    "        playlist['name'],\n",
    "        playlist['collaborative'],\n",
    "        playlist['pid'],\n",
    "        playlist['modified_at'],\n",
    "        playlist['num_tracks'],\n",
    "        playlist['num_albums'],\n",
    "        playlist['num_followers']\n",
    "    ))\n",
    "\n",
    "#Inserting each keys in the tracks_data into the table\n",
    "insert_query = '''\n",
    "INSERT OR IGNORE INTO Playlists (name, collaborative, pid, modified_at, num_tracks, num_albums, num_followers)\n",
    "VALUES (?, ?, ?, ?, ?, ?, ?)\n",
    "'''\n",
    "\n",
    "cur.executemany(insert_query, playlists_data)\n",
    "conn.commit()\n",
    "conn.close()"
   ]
  },
  {
   "cell_type": "code",
   "execution_count": 52,
   "id": "57e38fd8-9222-4769-a147-5326fe29c9e3",
   "metadata": {
    "jupyter": {
     "source_hidden": true
    }
   },
   "outputs": [
    {
     "name": "stdout",
     "output_type": "stream",
     "text": [
      "(0, 'Throwbacks', 'false', 1493424000, 52, 47, 1)\n",
      "(1, 'Awesome Playlist', 'false', 1506556800, 39, 23, 1)\n",
      "(2, 'korean ', 'false', 1505692800, 64, 51, 1)\n",
      "(3, 'mat', 'false', 1501027200, 126, 107, 1)\n",
      "(4, '90s', 'false', 1401667200, 17, 16, 2)\n"
     ]
    }
   ],
   "source": [
    "# RETREIVE THE DATA\n",
    "conn = sqlite3.connect('data.db')\n",
    "cur = conn.cursor()\n",
    "\n",
    "# Execute a query to retrieve all rows from the playlist_names table\n",
    "cur.execute('SELECT * FROM Playlists LIMIT 5')\n",
    "\n",
    "# Fetch all results of the query\n",
    "rows = cur.fetchall()\n",
    "\n",
    "# Print the rows\n",
    "for row in rows:\n",
    "    print(row)\n",
    "# Close the connection\n",
    "cur.close()\n",
    "conn.close()"
   ]
  },
  {
   "cell_type": "code",
   "execution_count": 53,
   "id": "c2b584e9-850d-476f-aec0-e2c6d87e0a84",
   "metadata": {
    "jupyter": {
     "source_hidden": true
    }
   },
   "outputs": [
    {
     "name": "stdout",
     "output_type": "stream",
     "text": [
      "Number of rows in the Tracks table: 1000\n"
     ]
    }
   ],
   "source": [
    "#CHECK THE SIZE OF TABLE (NUMBER OF ROWS)\n",
    "conn = sqlite3.connect('draft.db')\n",
    "# Create a cursor object using the connection\n",
    "cur = conn.cursor()\n",
    "\n",
    "cur.execute('SELECT COUNT(*) FROM Playlists')\n",
    "row_count = cur.fetchone()[0]\n",
    "\n",
    "# Print the number of rows\n",
    "print(f'Number of rows in the Tracks table: {row_count}')\n",
    "\n",
    "# Close the cursor and connection\n",
    "cur.close()\n",
    "conn.close()"
   ]
  },
  {
   "cell_type": "markdown",
   "id": "7eeb746e-1c35-4666-815f-2eddf2d50357",
   "metadata": {},
   "source": [
    "## 2. TRACKS TABLES"
   ]
  },
  {
   "cell_type": "code",
   "execution_count": 54,
   "id": "70de5af5-572e-4886-ae9d-5d5d64a4c09c",
   "metadata": {},
   "outputs": [],
   "source": [
    "#CREATE TABLE\n",
    "conn = sqlite3.connect('data.db')\n",
    "cur=conn.cursor()\n",
    "\n",
    "#Create table\n",
    "create_playlist_table = '''\n",
    "CREATE TABLE IF NOT EXISTS TrackS (\n",
    "    track_uri TEXT PRIMARY KEY,\n",
    "    artist_name TEXT,\n",
    "    artist_uri TEXT,\n",
    "    track_name TEXT,\n",
    "    album_name TEXT,\n",
    "    album_uri TEXT,\n",
    "    duration_ms INT\n",
    ")\n",
    "'''\n",
    "cur.execute(create_playlist_table)\n",
    "conn.commit()"
   ]
  },
  {
   "cell_type": "code",
   "execution_count": 56,
   "id": "5387739d-0a2d-4909-afb2-4a40c3683fe8",
   "metadata": {},
   "outputs": [],
   "source": [
    "# INSERT TABLE\n",
    "\n",
    "tracks_data=[]\n",
    "for playlist in data[\"playlists\"]:\n",
    "    for track in playlist[\"tracks\"]:\n",
    "        tracks_data.append((\n",
    "            track[\"track_uri\"], \n",
    "            track[\"artist_name\"], \n",
    "            track[\"artist_uri\"], \n",
    "            track[\"track_name\"], \n",
    "            track[\"album_name\"], \n",
    "            track[\"album_uri\"], \n",
    "            track[\"duration_ms\"]\n",
    "        ))\n",
    "        \n",
    "insert_track = '''\n",
    "INSERT OR IGNORE INTO Tracks (track_uri, artist_name, artist_uri, track_name, album_name, album_uri, duration_ms)\n",
    "VALUES (?, ?, ?, ?, ?, ?, ?)\n",
    "'''\n",
    "\n",
    "cur.executemany(insert_track, tracks_data)\n",
    "conn.commit()\n",
    "conn.close()"
   ]
  },
  {
   "cell_type": "code",
   "execution_count": 57,
   "id": "f85ee191-978a-4d80-ad34-dd8edacbc177",
   "metadata": {
    "jupyter": {
     "source_hidden": true
    }
   },
   "outputs": [
    {
     "name": "stdout",
     "output_type": "stream",
     "text": [
      "Number of rows in the Tracks table: 34443\n"
     ]
    }
   ],
   "source": [
    "#CHECK ROWS\n",
    "conn = sqlite3.connect('data.db')\n",
    "\n",
    "# Create a cursor object using the connection\n",
    "cur = conn.cursor()\n",
    "\n",
    "cur.execute('SELECT COUNT(*) FROM Tracks')\n",
    "row_count = cur.fetchone()[0]\n",
    "\n",
    "# Print the number of rows\n",
    "print(f'Number of rows in the Tracks table: {row_count}')\n",
    "\n",
    "# Close the cursor and connection\n",
    "cur.close()\n",
    "conn.close()"
   ]
  },
  {
   "cell_type": "code",
   "execution_count": 58,
   "id": "ece7ace2-de6c-413a-9881-80ae85193460",
   "metadata": {
    "jupyter": {
     "source_hidden": true
    }
   },
   "outputs": [
    {
     "name": "stdout",
     "output_type": "stream",
     "text": [
      "('spotify:track:0UaMYEvWZi0ZqiDOoHU3YI', 'Missy Elliott', 'spotify:artist:2wIVse2owClT7go1WT98tk', 'Lose Control (feat. Ciara & Fat Man Scoop)', 'The Cookbook', 'spotify:album:6vV5UrXcfyQD1wu4Qo2I9K', 226863)\n",
      "('spotify:track:6I9VzXrHxO9rA9A5euc8Ak', 'Britney Spears', 'spotify:artist:26dSoYclwsYLMAKD3tpOr4', 'Toxic', 'In The Zone', 'spotify:album:0z7pVBGOD7HCIB7S8eLkLI', 198800)\n"
     ]
    }
   ],
   "source": [
    "# RETREIVE THE DATA\n",
    "conn = sqlite3.connect('data.db')\n",
    "cur = conn.cursor()\n",
    "\n",
    "# Execute a query to retrieve all rows from the playlist_names table\n",
    "cur.execute('SELECT * FROM Tracks LIMIT 2')\n",
    "\n",
    "# Fetch all results of the query\n",
    "rows = cur.fetchall()\n",
    "\n",
    "# Print the rows\n",
    "for row in rows:\n",
    "    print(row)\n",
    "# Close the connection\n",
    "cur.close()\n",
    "conn.close()"
   ]
  },
  {
   "cell_type": "markdown",
   "id": "27febd84-b2ac-418a-b75b-a622346c6a04",
   "metadata": {},
   "source": [
    "## 3. Playlists_Tracks Table\n",
    "**NOTE:** will have pid, tracks_uri, pos . (pid,track_uri) will be composite keys because a track can be appeared in multiple playlists. "
   ]
  },
  {
   "cell_type": "code",
   "execution_count": 59,
   "id": "51d1dac8-da25-4061-bb17-2100c78c5ffa",
   "metadata": {},
   "outputs": [
    {
     "data": {
      "text/plain": [
       "<sqlite3.Cursor at 0x7fd42a7b9840>"
      ]
     },
     "execution_count": 59,
     "metadata": {},
     "output_type": "execute_result"
    }
   ],
   "source": [
    "#CREATE\n",
    "conn = sqlite3.connect('data.db')\n",
    "cur = conn.cursor()\n",
    "\n",
    "create_playtrack_table = '''\n",
    "CREATE TABLE IF NOT EXISTS Playlists_Tracks (\n",
    "    pid INT,\n",
    "    track_uri TEXT,\n",
    "    pos INT,\n",
    "    FOREIGN KEY(pid) REFERENCES Playlists(pid),\n",
    "    FOREIGN KEY(track_uri) REFERENCES Tracks(track_uri),\n",
    "    PRIMARY KEY(pid, track_uri)\n",
    ")\n",
    "'''\n",
    "cur.execute(create_playtrack_table)"
   ]
  },
  {
   "cell_type": "code",
   "execution_count": 60,
   "id": "a3c7da94-be53-4030-b2b6-8d9506e311cb",
   "metadata": {},
   "outputs": [],
   "source": [
    "#INSERT VALUES INTO PLAYLISTS_TRACKS\n",
    "playlist_track_data=[]\n",
    "for playlist in data[\"playlists\"]:\n",
    "    for track in playlist[\"tracks\"]:\n",
    "        playlist_track_data.append((\n",
    "            playlist['pid'],\n",
    "            track['track_uri'],\n",
    "            track['pos']\n",
    "        ))\n",
    "        \n",
    "insert_track = '''\n",
    "INSERT OR IGNORE INTO Playlists_Tracks (pid, track_uri, pos)\n",
    "VALUES (?, ?, ?)\n",
    "'''\n",
    "\n",
    "cur.executemany(insert_track, playlist_track_data)\n",
    "conn.commit()\n",
    "cur.close()\n",
    "conn.close()"
   ]
  },
  {
   "cell_type": "code",
   "execution_count": 61,
   "id": "21c342ba-bc23-4838-afb1-32271f55cd7c",
   "metadata": {},
   "outputs": [
    {
     "name": "stdout",
     "output_type": "stream",
     "text": [
      "Number of rows in the Tracks table: 66721\n"
     ]
    }
   ],
   "source": [
    "#CHECK ROWS\n",
    "conn = sqlite3.connect('data.db')\n",
    "cur = conn.cursor()\n",
    "\n",
    "cur.execute('SELECT COUNT(*) FROM Playlists_Tracks')\n",
    "row_count = cur.fetchone()[0]\n",
    "\n",
    "# Print the number of rows\n",
    "print(f'Number of rows in the Tracks table: {row_count}')\n",
    "\n",
    "# Close the cursor and connection\n",
    "conn.commit()\n",
    "cur.close()\n",
    "conn.close()"
   ]
  },
  {
   "cell_type": "code",
   "execution_count": null,
   "id": "b4b1704b-46a6-4c0b-8763-f63dfdeabd7a",
   "metadata": {},
   "outputs": [],
   "source": []
  }
 ],
 "metadata": {
  "kernelspec": {
   "display_name": "Python 3",
   "language": "python",
   "name": "python3"
  },
  "language_info": {
   "codemirror_mode": {
    "name": "ipython",
    "version": 3
   },
   "file_extension": ".py",
   "mimetype": "text/x-python",
   "name": "python",
   "nbconvert_exporter": "python",
   "pygments_lexer": "ipython3",
   "version": "3.11.6"
  }
 },
 "nbformat": 4,
 "nbformat_minor": 5
}
