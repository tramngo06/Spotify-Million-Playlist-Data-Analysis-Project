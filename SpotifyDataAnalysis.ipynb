{
 "cells": [
  {
   "cell_type": "markdown",
   "id": "7053e062-c81e-4db9-8ca7-e66fcc51198f",
   "metadata": {},
   "source": [
    "# Spotify Data Analysis Project\n",
    "## 1. Overview about the project \n",
    "##### \"The Spotify Million Playlist Dataset Challenge consists of a dataset and evaluation to enable research in music recommendations. It is a continuation of the RecSys Challenge 2018, which ran from January to July 2018. \n",
    "##### **Goal:** Develop a system which takes a playlist, and predict the next songs on the playlist.\n",
    "##### **Dataset:** https://www.aicrowd.com/challenges/spotify-million-playlist-dataset-challenge#dataset"
   ]
  },
  {
   "cell_type": "markdown",
   "id": "b5d8c2f5-bb38-49f9-8876-08d9e96d8a2a",
   "metadata": {
    "jp-MarkdownHeadingCollapsed": true
   },
   "source": [
    "## 2. Load The Dataset: Using Apache Sparks to Load All 1000 Files.\n",
    "**Note**: Below are the steps to convert json data into a suitale structured format to analyze in Apache Sparks. "
   ]
  },
  {
   "cell_type": "code",
   "execution_count": 174,
   "id": "a3778ac2-d9ea-4770-b8ac-6774a3c6c483",
   "metadata": {
    "collapsed": true,
    "jupyter": {
     "outputs_hidden": true
    },
    "scrolled": true
   },
   "outputs": [
    {
     "name": "stdout",
     "output_type": "stream",
     "text": [
      "Defaulting to user installation because normal site-packages is not writeable\n",
      "Requirement already satisfied: pandas in /usr/lib64/python3.11/site-packages (1.5.3)\n",
      "Requirement already satisfied: sqlalchemy in /usr/lib64/python3.11/site-packages (1.4.50)\n",
      "Collecting pyspark\n",
      "  Downloading pyspark-3.5.1.tar.gz (317.0 MB)\n",
      "\u001b[2K     \u001b[90m━━━━━━━━━━━━━━━━━━━━━━━━━━━━━━━━━━━━━━━\u001b[0m \u001b[32m317.0/317.0 MB\u001b[0m \u001b[31m1.6 MB/s\u001b[0m eta \u001b[36m0:00:00\u001b[0m00:01\u001b[0m00:01\u001b[0m\n",
      "\u001b[?25h  Preparing metadata (setup.py) ... \u001b[?25ldone\n",
      "\u001b[?25hRequirement already satisfied: python-dateutil>=2.8.1 in /usr/lib/python3.11/site-packages (from pandas) (2.8.2)\n",
      "Requirement already satisfied: pytz>=2020.1 in /usr/lib/python3.11/site-packages (from pandas) (2023.3.post1)\n",
      "Requirement already satisfied: numpy>=1.21.0 in /usr/lib64/python3.11/site-packages (from pandas) (1.24.3)\n",
      "Requirement already satisfied: greenlet!=0.4.17 in /usr/lib64/python3.11/site-packages (from sqlalchemy) (1.1.2)\n",
      "Collecting py4j==0.10.9.7\n",
      "  Downloading py4j-0.10.9.7-py2.py3-none-any.whl (200 kB)\n",
      "\u001b[2K     \u001b[90m━━━━━━━━━━━━━━━━━━━━━━━━━━━━━━━━━━━━━━\u001b[0m \u001b[32m200.5/200.5 kB\u001b[0m \u001b[31m27.3 MB/s\u001b[0m eta \u001b[36m0:00:00\u001b[0m\n",
      "\u001b[?25hRequirement already satisfied: six>=1.5 in /usr/lib/python3.11/site-packages (from python-dateutil>=2.8.1->pandas) (1.16.0)\n",
      "Using legacy 'setup.py install' for pyspark, since package 'wheel' is not installed.\n",
      "Installing collected packages: py4j, pyspark\n",
      "  Running setup.py install for pyspark ... \u001b[?25ldone\n",
      "\u001b[?25hSuccessfully installed py4j-0.10.9.7 pyspark-3.5.1\n"
     ]
    }
   ],
   "source": [
    "!pip install pandas sqlalchemy pyspark "
   ]
  },
  {
   "cell_type": "code",
   "execution_count": 1,
   "id": "87342899-dcff-4949-b6ea-49a1d892169d",
   "metadata": {
    "collapsed": true,
    "jupyter": {
     "outputs_hidden": true
    }
   },
   "outputs": [
    {
     "name": "stderr",
     "output_type": "stream",
     "text": [
      "Setting default log level to \"WARN\".\n",
      "To adjust logging level use sc.setLogLevel(newLevel). For SparkR, use setLogLevel(newLevel).\n",
      "24/06/30 16:58:37 WARN NativeCodeLoader: Unable to load native-hadoop library for your platform... using builtin-java classes where applicable\n"
     ]
    }
   ],
   "source": [
    "from pyspark.sql import SparkSession\n",
    "spark = SparkSession.builder.appName(\"SpotifyDataAnalysis\").getOrCreate()"
   ]
  },
  {
   "cell_type": "code",
   "execution_count": 2,
   "id": "07be09e4-eb6d-4b2c-acfc-eab6b3526028",
   "metadata": {
    "jupyter": {
     "source_hidden": true
    }
   },
   "outputs": [
    {
     "name": "stderr",
     "output_type": "stream",
     "text": [
      "                                                                                \r"
     ]
    }
   ],
   "source": [
    "#drop any corrupt record (it occurs while sparks parsing the dataset there are some unexpected issues)\n",
    "df = spark.read.option(\"mode\", \"DROPMALFORMED\").json('/home/student/ttngo/SpotifyDataProject/data/mpd.slice.*.json')"
   ]
  },
  {
   "cell_type": "markdown",
   "id": "90fc6d90-2ac9-4191-8b37-7ff3d20498b8",
   "metadata": {},
   "source": [
    "#### Lets Try With A Subset of Dataset fiest (24 files)"
   ]
  },
  {
   "cell_type": "code",
   "execution_count": 241,
   "id": "6b65b8bb-b432-4936-abf4-497a80b29be0",
   "metadata": {},
   "outputs": [],
   "source": [
    "import os\n",
    "import json\n",
    "directory = \"/home/student/ttngo/SpotifyDataProject/data/\"\n",
    "# Get a list of all JSON files in the directory\n",
    "files = [os.path.join(directory, f) for f in os.listdir(directory) if f.endswith('.json')]\n",
    "files_subset = files[:24]"
   ]
  },
  {
   "cell_type": "code",
   "execution_count": 242,
   "id": "0428379e-e454-44e2-b8dc-57b9d74d1165",
   "metadata": {},
   "outputs": [],
   "source": [
    "data = []\n",
    "\n",
    "# Loop through each file in the subset\n",
    "for file in files_subset:\n",
    "    # Open each file\n",
    "    with open(file, 'r') as f:\n",
    "        # Load the data from the file and append it to the list\n",
    "        data.append(json.load(f))"
   ]
  },
  {
   "cell_type": "code",
   "execution_count": 243,
   "id": "f83b1d89-6202-44ec-a1f1-b68c3b17be16",
   "metadata": {},
   "outputs": [],
   "source": [
    "import pandas as pd\n",
    "df= pd.DataFrame(data)"
   ]
  },
  {
   "cell_type": "code",
   "execution_count": 244,
   "id": "bf3b177f-6769-42df-bdec-a53118c9a73e",
   "metadata": {},
   "outputs": [
    {
     "data": {
      "text/plain": [
       "(24, 2)"
      ]
     },
     "execution_count": 244,
     "metadata": {},
     "output_type": "execute_result"
    }
   ],
   "source": [
    "df.shape"
   ]
  },
  {
   "cell_type": "code",
   "execution_count": 245,
   "id": "8163a557-bc31-4ebd-9f79-ce73afac334f",
   "metadata": {},
   "outputs": [],
   "source": [
    "import pandas as pd\n",
    "# Initialize an empty list to store the playlists\n",
    "playlists = []\n",
    "# Loop through each file's data\n",
    "for file_data in data:\n",
    "    # Append each playlist to the list\n",
    "    playlists.extend(file_data['playlists'])\n",
    "\n",
    "# Convert the list of playlists to a DataFrame\n",
    "dataframe = pd.DataFrame(playlists)\n"
   ]
  },
  {
   "cell_type": "code",
   "execution_count": 407,
   "id": "62c911b8-1fb7-4c29-97c9-c91a082f6ec3",
   "metadata": {
    "jupyter": {
     "source_hidden": true
    }
   },
   "outputs": [
    {
     "name": "stdout",
     "output_type": "stream",
     "text": [
      "Stored 'dataframe' (DataFrame)\n"
     ]
    }
   ],
   "source": [
    "%store dataframe"
   ]
  },
  {
   "cell_type": "code",
   "execution_count": 408,
   "id": "585b2fa6-9d78-421f-bfbf-cad8dbf27bbd",
   "metadata": {
    "jupyter": {
     "source_hidden": true
    }
   },
   "outputs": [
    {
     "name": "stdout",
     "output_type": "stream",
     "text": [
      "Stored 'playlists' (list)\n"
     ]
    }
   ],
   "source": [
    "%store playlists"
   ]
  },
  {
   "cell_type": "markdown",
   "id": "8703087a-2560-4c06-a44a-8ebe1d18c7e2",
   "metadata": {
    "jp-MarkdownHeadingCollapsed": true
   },
   "source": [
    "## 3. Requesting More Information From Spotify API"
   ]
  },
  {
   "cell_type": "code",
   "execution_count": 44,
   "id": "e7d9291a-f7e9-4fa5-a6df-b9a80202ff1a",
   "metadata": {},
   "outputs": [],
   "source": [
    "client_id = 'c468fcc1bfb343a5972d0fae6cc23802'\n",
    "client_secret ='2d996f020fe644f0b5e53fa257414c2e'"
   ]
  },
  {
   "cell_type": "code",
   "execution_count": 178,
   "id": "87a0bc57-6c41-4b94-ae57-9bccd8cca15e",
   "metadata": {},
   "outputs": [
    {
     "name": "stdout",
     "output_type": "stream",
     "text": [
      "Access token: BQAJI0YF1A_GbuddWEK5f6-ZttAX7Pdg5lmz7z1zddnCGjXr1oCr4qkSGpxOHCksGHFOsazCTzwH-IGfRY9zXyi7whgL5EKx3QUMBValzHrJXuaxtPo\n"
     ]
    }
   ],
   "source": [
    "import requests\n",
    "# Define the endpoint\n",
    "url = 'https://accounts.spotify.com/api/token'\n",
    "# Define the headers\n",
    "headers = {\n",
    "    'Content-Type': 'application/x-www-form-urlencoded',\n",
    "}\n",
    "# Define the data\n",
    "data = {\n",
    "    'grant_type': 'client_credentials',\n",
    "    'client_id': client_id,\n",
    "    'client_secret': client_secret,\n",
    "}\n",
    "\n",
    "# Make the POST request\n",
    "response = requests.post(url, headers=headers, data=data)\n",
    "\n",
    "# Get the access token from the response\n",
    "access_token = response.json()['access_token']\n",
    "\n",
    "# Print the access token\n",
    "print('Access token:', access_token)\n"
   ]
  },
  {
   "cell_type": "markdown",
   "id": "b61aef9e-8c4f-4426-86f7-5848c771bd58",
   "metadata": {},
   "source": [
    "## 4. Create SQl Database \n",
    "**Note:** These database will store all the information about these table: Playlists, Artists, Tracks, Playlists_Tracks, Albums (including the additonal informations just requested).\n",
    "##### **Steps to create Database:** Create columns (addiotnal information included), fetch additional informations, insert value"
   ]
  },
  {
   "cell_type": "code",
   "execution_count": 56,
   "id": "7c8ec602-ea81-4248-9804-7c6e33556dee",
   "metadata": {},
   "outputs": [],
   "source": [
    "import sqlite3"
   ]
  },
  {
   "cell_type": "markdown",
   "id": "7d6f6e46-21cf-410f-8bd1-885263812c0c",
   "metadata": {
    "jp-MarkdownHeadingCollapsed": true
   },
   "source": [
    "### 5.1 Playlist Tables"
   ]
  },
  {
   "cell_type": "code",
   "execution_count": 378,
   "id": "2fad1584-a16f-42f8-9da3-6e085f82760c",
   "metadata": {},
   "outputs": [
    {
     "name": "stdout",
     "output_type": "stream",
     "text": [
      "Table 'Playlists' created successfully.\n"
     ]
    }
   ],
   "source": [
    "conn = sqlite3.connect('my.db')\n",
    "cur = conn.cursor()\n",
    "#CREATE\n",
    "create_playlist_table = '''\n",
    "CREATE TABLE IF NOT EXISTS Playlists (\n",
    "    pid INT PRIMARY KEY,\n",
    "    name TEXT,\n",
    "    collaborative TEXT,\n",
    "    modified_at INT,\n",
    "    num_tracks INT,\n",
    "    num_albums INT,\n",
    "    num_followers INT\n",
    "    )\n",
    "    '''\n",
    "cur.execute(create_playlist_table)\n",
    "conn.commit()\n",
    "print(\"Table 'Playlists' created successfully.\")"
   ]
  },
  {
   "cell_type": "markdown",
   "id": "a64dbba8-67d7-44d0-b176-c151d72e411b",
   "metadata": {},
   "source": [
    "**Checking**: The total rows in this Playlists table should be 24k because there are 24 json files and each files contains 1000 playlists."
   ]
  },
  {
   "cell_type": "code",
   "execution_count": 249,
   "id": "7def3064-12db-4ee5-aebc-bea402cbcbfc",
   "metadata": {},
   "outputs": [],
   "source": [
    "#INSERT VALUES\n",
    "# Prepare data for tracks insertion\n",
    "playlists_data=[]\n",
    "for playlist in playlists:\n",
    "    playlists_data.append((\n",
    "        playlist['name'],\n",
    "        playlist['collaborative'],\n",
    "        playlist['pid'],\n",
    "        playlist['modified_at'],\n",
    "        playlist['num_tracks'],\n",
    "        playlist['num_albums'],\n",
    "        playlist['num_followers']\n",
    "    ))"
   ]
  },
  {
   "cell_type": "code",
   "execution_count": 286,
   "id": "787959fa-eadb-42d9-8190-7830bfa478c7",
   "metadata": {},
   "outputs": [
    {
     "data": {
      "text/plain": [
       "24000"
      ]
     },
     "execution_count": 286,
     "metadata": {},
     "output_type": "execute_result"
    }
   ],
   "source": [
    "len(playlists_data)"
   ]
  },
  {
   "cell_type": "code",
   "execution_count": 379,
   "id": "66204150-8e86-419b-95a5-70a577e3f60d",
   "metadata": {},
   "outputs": [],
   "source": [
    "#Inserting each keys in the tracks_data into the table\n",
    "insert_playlists_query = '''\n",
    "INSERT OR IGNORE INTO Playlists (name, collaborative, pid, modified_at, num_tracks, num_albums, num_followers)\n",
    "VALUES (?, ?, ?, ?, ?, ?, ?)\n",
    "'''\n",
    "\n",
    "cur.executemany(insert_playlists_query, playlists_data)\n",
    "conn.commit()\n",
    "cur.close()\n",
    "conn.close()"
   ]
  },
  {
   "cell_type": "code",
   "execution_count": 380,
   "id": "24595573-b344-4272-b8fa-190f3a79b5d9",
   "metadata": {},
   "outputs": [
    {
     "name": "stdout",
     "output_type": "stream",
     "text": [
      "Number of rows in the Playlists table: 24000\n"
     ]
    }
   ],
   "source": [
    "#CHECK THE SIZE OF TABLE (NUMBER OF ROWS)\n",
    "conn = sqlite3.connect('my.db')\n",
    "# Create a cursor object using the connection\n",
    "cur = conn.cursor()\n",
    "\n",
    "cur.execute('SELECT COUNT(*) FROM Playlists')\n",
    "row_count = cur.fetchone()[0]\n",
    "\n",
    "# Print the number of rows\n",
    "print(f'Number of rows in the Playlists table: {row_count}')\n",
    "\n",
    "# Close the cursor and connection\n",
    "cur.close()\n",
    "conn.close()"
   ]
  },
  {
   "cell_type": "code",
   "execution_count": 383,
   "id": "9384d45e-ccf4-4bf7-a57f-9ae8b54a5873",
   "metadata": {},
   "outputs": [
    {
     "name": "stdout",
     "output_type": "stream",
     "text": [
      "First row from the Playlists table:\n",
      "(57000, 'reggaeton', 'false', 1509321600, 69, 54, 1)\n"
     ]
    }
   ],
   "source": [
    "conn = sqlite3.connect('my.db')\n",
    "cur = conn.cursor()\n",
    "\n",
    "# Execute a SELECT query to fetch one row from the Playlists table\n",
    "cur.execute('SELECT * FROM Playlists LIMIT 1')\n",
    "row = cur.fetchone()\n",
    "\n",
    "# Print the fetched row\n",
    "print(\"First row from the Playlists table:\")\n",
    "print(row)\n",
    "\n",
    "# Close the cursor and connection\n",
    "cur.close()\n",
    "conn.close()\n"
   ]
  },
  {
   "cell_type": "markdown",
   "id": "3c6722fa-61d3-4394-9ee9-e41a58edc3bd",
   "metadata": {
    "jp-MarkdownHeadingCollapsed": true
   },
   "source": [
    "### 5.2: Tracks Tables"
   ]
  },
  {
   "cell_type": "markdown",
   "id": "9762fc51-931a-4ee4-be3f-699dfea80ed1",
   "metadata": {},
   "source": [
    "**Notes:** The length of tracks_data is greater than the len of the Tracks table because tracks table handle duplicates value. In other words, there are some repeated song along multiple playlists will be removed."
   ]
  },
  {
   "cell_type": "code",
   "execution_count": 171,
   "id": "cab6c6d3-a2d6-4184-86cc-5a9f35d4855c",
   "metadata": {},
   "outputs": [
    {
     "data": {
      "text/plain": [
       "35279"
      ]
     },
     "execution_count": 171,
     "metadata": {},
     "output_type": "execute_result"
    }
   ],
   "source": [
    "# CREATE A LIST OF UNIQUE TRACKS\n",
    "track_uris=[]\n",
    "for playlist in playlists:\n",
    "    for track in playlist['tracks']:\n",
    "        track_uri= track['track_uri']\n",
    "        if track_uri not in track_uris:\n",
    "            track_uris.append(track_uri)\n",
    "len(track_uris)"
   ]
  },
  {
   "cell_type": "markdown",
   "id": "d50e0386-423c-4a0f-8bcf-965db2bc3786",
   "metadata": {},
   "source": [
    "#### Before create a track table, we need to fetch more information about track beside the track metadata(pos, track_uri, track_name,..). Track's audio feature would be helpful. The code below is fucntion to fetch the track's audio feature."
   ]
  },
  {
   "cell_type": "code",
   "execution_count": 177,
   "id": "a2ed5c3f-b06b-4d09-b7b3-fe423e67ef21",
   "metadata": {},
   "outputs": [],
   "source": [
    "def fetch_audio_features(track_chunks, access_token, delay=0.2):\n",
    "    audio_features_url = 'https://api.spotify.com/v1/audio-features'\n",
    "    headers = {'Authorization': f'Bearer {access_token}'}\n",
    "    audio_features = []\n",
    "\n",
    "    for chunk in track_chunks:\n",
    "        track_ids = ','.join(chunk)\n",
    "        params = {'ids': track_ids}\n",
    "        response = requests.get(audio_features_url, headers=headers, params=params)\n",
    "\n",
    "        if response.status_code == 200:\n",
    "            audio_features.extend(response.json()['audio_features'])\n",
    "        elif response.status_code == 429:  # Rate limit exceeded\n",
    "            retry_after = int(response.headers.get('Retry-After', delay))\n",
    "            print(f\"Rate limit exceeded, retrying after {retry_after} seconds...\")\n",
    "            time.sleep(retry_after)\n",
    "            continue\n",
    "        else:\n",
    "            print(f\"Failed to fetch audio features: {response.status_code} - {response.text}\")\n",
    "\n",
    "        # Introduce a small delay between requests to avoid hitting rate limits\n",
    "        time.sleep(delay)\n",
    "\n",
    "    return audio_features"
   ]
  },
  {
   "cell_type": "code",
   "execution_count": 180,
   "id": "e5f7d921-be62-4baa-8d06-f1c87304c98d",
   "metadata": {},
   "outputs": [],
   "source": [
    "track_ids = [uri.split(':')[-1] for uri in track_uris]\n",
    "chunk_size = 50\n",
    "track_chunks = [track_ids[i:i+chunk_size] for i in range(0, len(track_ids), chunk_size)]\n",
    "# Fetch audio features in chunks\n",
    "access_token = 'BQAJI0YF1A_GbuddWEK5f6-ZttAX7Pdg5lmz7z1zddnCGjXr1oCr4qkSGpxOHCksGHFOsazCTzwH-IGfRY9zXyi7whgL5EKx3QUMBValzHrJXuaxtPo'\n",
    "audio_features = fetch_audio_features(track_chunks, access_token)"
   ]
  },
  {
   "cell_type": "code",
   "execution_count": 196,
   "id": "7ca92e8b-e2e5-4185-86d6-3409ccd39ba9",
   "metadata": {},
   "outputs": [
    {
     "data": {
      "text/plain": [
       "35279"
      ]
     },
     "execution_count": 196,
     "metadata": {},
     "output_type": "execute_result"
    }
   ],
   "source": [
    "len(audio_features)"
   ]
  },
  {
   "cell_type": "markdown",
   "id": "59c223e2-a94f-4d22-a95d-96d27b9d11c0",
   "metadata": {
    "jp-MarkdownHeadingCollapsed": true
   },
   "source": [
    "#### Now, let's create tables which contains both track's metadata and track's audio features.\n",
    "**Note:** we can map the correspond track_uri in 'Track metadata' to uri in 'Track's audio features'. In this way, we ca n the correspond audio feature to a unquie track. "
   ]
  },
  {
   "cell_type": "code",
   "execution_count": 412,
   "id": "b23f29aa-c2c7-4ef6-8d6b-f2c496b59005",
   "metadata": {},
   "outputs": [],
   "source": [
    "#CREATE TRACKS TABLE.\n",
    "conn = sqlite3.connect('my.db')\n",
    "cur = conn.cursor()\n",
    "\n",
    "create_tracks_table = '''\n",
    "CREATE TABLE IF NOT EXISTS Tracks (\n",
    "    pos INTEGER,\n",
    "    artist_name TEXT,\n",
    "    track_uri TEXT PRIMARY KEY,\n",
    "    artist_uri TEXT,\n",
    "    track_name TEXT,\n",
    "    album_uri TEXT,\n",
    "    duration_ms INTEGER,\n",
    "    album_name TEXT,\n",
    "    danceability REAL,\n",
    "    energy REAL,\n",
    "    key INTEGER,\n",
    "    loudness REAL,\n",
    "    mode INTEGER,\n",
    "    speechiness REAL,\n",
    "    acousticness REAL,\n",
    "    instrumentalness REAL,\n",
    "    liveness REAL,\n",
    "    valence REAL,\n",
    "    tempo REAL,\n",
    "    type TEXT,\n",
    "    id TEXT,\n",
    "    track_href TEXT,\n",
    "    analysis_url TEXT,\n",
    "    time_signature INTEGER\n",
    "    )\n",
    "    '''\n",
    "cur.execute(create_tracks_table)\n",
    "conn.commit()"
   ]
  },
  {
   "cell_type": "code",
   "execution_count": 368,
   "id": "ce5acbf4-48da-4996-8fde-af94e2201682",
   "metadata": {},
   "outputs": [],
   "source": [
    "tracks_data= []  \n",
    "\n",
    "for playlist in playlists:\n",
    "    for track in playlist['tracks']:\n",
    "        tracks_data.append({\n",
    "            'pos': track.get('pos'),            \n",
    "            'artist_name': track.get('artist_name'),  \n",
    "            'track_uri': track.get('track_uri'),      \n",
    "            'artist_uri': track.get('artist_uri'),   \n",
    "            'track_name': track.get('track_name'),    \n",
    "            'album_uri': track.get('album_uri'),      \n",
    "            'duration_ms': track.get('duration_ms'),  \n",
    "            'album_name': track.get('album_name')     \n",
    "        })"
   ]
  },
  {
   "cell_type": "code",
   "execution_count": 369,
   "id": "182391d9-7f98-426e-b1cf-bc1a0e1a59f2",
   "metadata": {
    "scrolled": true
   },
   "outputs": [
    {
     "data": {
      "text/plain": [
       "1605538"
      ]
     },
     "execution_count": 369,
     "metadata": {},
     "output_type": "execute_result"
    }
   ],
   "source": [
    "len(tracks_data)"
   ]
  },
  {
   "cell_type": "code",
   "execution_count": 397,
   "id": "edce8dfb-9722-4aec-90e7-fce28e861f8c",
   "metadata": {},
   "outputs": [],
   "source": [
    "combined_data = []\n",
    "\n",
    "# Assuming both tracks_data and audio_features have the same length\n",
    "for track_meta, audio_feature in zip(tracks_data, audio_features):\n",
    "    track_data = {\n",
    "        'pos': track_meta.get('pos'),\n",
    "        'artist_name': track_meta.get('artist_name'),\n",
    "        'track_uri': track_meta.get('track_uri'),\n",
    "        'artist_uri': track_meta.get('artist_uri'),\n",
    "        'track_name': track_meta.get('track_name'),\n",
    "        'album_uri': track_meta.get('album_uri'),\n",
    "        'duration_ms': track_meta.get('duration_ms'),\n",
    "        'album_name': track_meta.get('album_name'),\n",
    "        'danceability': audio_feature.get('danceability', 0) if audio_feature else 0,\n",
    "        'energy': audio_feature.get('energy', 0) if audio_feature else 0,\n",
    "        'key': audio_feature.get('key', 0) if audio_feature else 0,\n",
    "        'loudness': audio_feature.get('loudness', 0) if audio_feature else 0,\n",
    "        'mode': audio_feature.get('mode', 0) if audio_feature else 0,\n",
    "        'speechiness': audio_feature.get('speechiness', 0) if audio_feature else 0,\n",
    "        'acousticness': audio_feature.get('acousticness', 0) if audio_feature else 0,\n",
    "        'instrumentalness': audio_feature.get('instrumentalness', 0) if audio_feature else 0,\n",
    "        'liveness': audio_feature.get('liveness', 0) if audio_feature else 0,\n",
    "        'valence': audio_feature.get('valence', 0) if audio_feature else 0,\n",
    "        'tempo': audio_feature.get('tempo', 0) if audio_feature else 0,\n",
    "        'type': audio_feature.get('type', '') if audio_feature else '',\n",
    "        'id': audio_feature.get('id', '') if audio_feature else '',\n",
    "        'track_href': audio_feature.get('track_href', '') if audio_feature else '',\n",
    "        'analysis_url': audio_feature.get('analysis_url', '') if audio_feature else '',\n",
    "        'time_signature': audio_feature.get('time_signature', 0) if audio_feature else 0\n",
    "    }\n",
    "    combined_data.append(track_data)\n",
    "\n",
    "# After creating combined_data, proceed with insertion into the database\n"
   ]
  },
  {
   "cell_type": "code",
   "execution_count": 398,
   "id": "a0fb8128-086e-4bf1-bc69-225e64997a30",
   "metadata": {},
   "outputs": [
    {
     "data": {
      "text/plain": [
       "35279"
      ]
     },
     "execution_count": 398,
     "metadata": {},
     "output_type": "execute_result"
    }
   ],
   "source": [
    "len(combined_data)"
   ]
  },
  {
   "cell_type": "code",
   "execution_count": 411,
   "id": "c8d14289-1cff-41a7-8951-c716029e5995",
   "metadata": {},
   "outputs": [
    {
     "name": "stdout",
     "output_type": "stream",
     "text": [
      "Stored 'combined_data' (list)\n"
     ]
    }
   ],
   "source": [
    "%store combined_data"
   ]
  },
  {
   "cell_type": "code",
   "execution_count": 413,
   "id": "17058370-65ec-4f15-8145-45695384923b",
   "metadata": {},
   "outputs": [],
   "source": [
    "for track_data in combined_data:\n",
    "    cur.execute(\"\"\"\n",
    "        INSERT OR REPLACE INTO Tracks (\n",
    "            pos, artist_name, track_uri, artist_uri, track_name, album_uri,\n",
    "            duration_ms, album_name, danceability, energy, key, loudness,\n",
    "            mode, speechiness, acousticness, instrumentalness, liveness,\n",
    "            valence, tempo, type, id, track_href, analysis_url, time_signature\n",
    "        ) VALUES (?, ?, ?, ?, ?, ?, ?, ?, ?, ?, ?, ?, ?, ?, ?, ?, ?, ?, ?, ?, ?, ?, ?, ?)\n",
    "    \"\"\", (\n",
    "        track_data['pos'], track_data['artist_name'], track_data['track_uri'],\n",
    "        track_data['artist_uri'], track_data['track_name'], track_data['album_uri'],\n",
    "        track_data['duration_ms'], track_data['album_name'], track_data['danceability'],\n",
    "        track_data['energy'], track_data['key'], track_data['loudness'],\n",
    "        track_data['mode'], track_data['speechiness'], track_data['acousticness'],\n",
    "        track_data['instrumentalness'], track_data['liveness'], track_data['valence'],\n",
    "        track_data['tempo'], track_data['type'], track_data['id'],\n",
    "        track_data['track_href'], track_data['analysis_url'], track_data['time_signature']\n",
    "    ))\n",
    "\n",
    "conn.commit()\n",
    "cur.close()\n",
    "conn.close()"
   ]
  },
  {
   "cell_type": "code",
   "execution_count": 414,
   "id": "289b6c55-d859-48c6-819d-8b6e33ce69d9",
   "metadata": {},
   "outputs": [
    {
     "name": "stdout",
     "output_type": "stream",
     "text": [
      "21517\n"
     ]
    }
   ],
   "source": [
    "#CHECK THE SIZE OF TABLE (NUMBER OF ROWS)\n",
    "conn = sqlite3.connect('my.db')\n",
    "# Create a cursor object using the connection\n",
    "cur = conn.cursor()\n",
    "\n",
    "cur.execute('SELECT COUNT(*) FROM Tracks')\n",
    "row_count = cur.fetchone()[0]\n",
    "\n",
    "# Print the number of rows\n",
    "print(row_count)\n",
    "\n",
    "# Close the cursor and connection\n",
    "cur.close()\n",
    "conn.close()"
   ]
  },
  {
   "cell_type": "markdown",
   "id": "9db14bb9-0bcb-4b70-a45e-7387d2625c49",
   "metadata": {
    "jp-MarkdownHeadingCollapsed": true
   },
   "source": [
    "### 5.3: Artists Tables"
   ]
  },
  {
   "cell_type": "code",
   "execution_count": 289,
   "id": "fff3ee8c-8c81-46cb-9f98-7c9dd7163a36",
   "metadata": {},
   "outputs": [],
   "source": [
    "# Initialize an empty list to store artist URIs\n",
    "artist_uris = []"
   ]
  },
  {
   "cell_type": "code",
   "execution_count": null,
   "id": "9f16ac82-d64d-4980-8ee9-7a478c98bf40",
   "metadata": {},
   "outputs": [],
   "source": [
    "# Loop through each playlist in your playlists data\n",
    "for playlist in playlists:\n",
    "    for track in playlist['tracks']:\n",
    "        artist_uri = track['artist_uri']\n",
    "        if artist_uri not in artist_uris:\n",
    "            artist_uris.append(artist_uri)"
   ]
  },
  {
   "cell_type": "code",
   "execution_count": null,
   "id": "d05a496e-95d4-4dde-a030-2ac3dce6bf2a",
   "metadata": {},
   "outputs": [],
   "source": [
    "print(len(artist_uris))"
   ]
  },
  {
   "cell_type": "markdown",
   "id": "3c51e350-d434-4a90-acc5-728a386b0c03",
   "metadata": {},
   "source": [
    "**Note:** since there are 10,262 artists in total (among 24,000 playlist), we will divide them into chunks of 50 ids and use Get Several Artist to proccess 50 artists a time. So there will be 10,262/50 = 206 chunks. The limit of request of API is 10-15 per seconds. "
   ]
  },
  {
   "cell_type": "code",
   "execution_count": 148,
   "id": "8553f6f6-b120-41a4-b3c7-9b8137e042d5",
   "metadata": {},
   "outputs": [],
   "source": [
    "import requests\n",
    "import time\n",
    "# url= 'https://api.spotify.com/v1/artists/{\n",
    "url = 'https://api.spotify.com/v1/artists'\n",
    "access_token = 'BQADgqBy9cwybs6zqF8brF2prmAKm2sOe3mdDvJcKyh0aLj_VKgsdBexmJsvtlg48mnPHqFVby0x4esAnKBfSs0NeiAnfLTuLKsUb9IQ9NFGr5AQVJo'"
   ]
  },
  {
   "cell_type": "code",
   "execution_count": 152,
   "id": "0d56a874-ea1d-4090-bf84-f5a7ca27116b",
   "metadata": {},
   "outputs": [],
   "source": [
    "def fetch_artists_info(artist_chunks, access_token, delay=0.2):\n",
    "    headers = {'Authorization': f'Bearer {access_token}'}\n",
    "    artists_info = []\n",
    "\n",
    "    for chunk in artist_chunks:\n",
    "        artist_ids = ','.join(chunk)\n",
    "        params = {'ids': artist_ids}  # Combine artist IDs into a comma-separated string\n",
    "        response = requests.get(url, headers=headers, params=params)\n",
    "\n",
    "        if response.status_code == 200:\n",
    "            artists_info.extend(response.json()['artists'])\n",
    "        elif response.status_code == 429:  # Rate limit exceeded\n",
    "            retry_after = int(response.headers.get('Retry-After', delay))\n",
    "            print(f\"Rate limit exceeded, retrying after {retry_after} seconds...\")\n",
    "            time.sleep(retry_after)\n",
    "            continue\n",
    "        else:\n",
    "            print(f\"Failed to fetch artists info: {response.status_code} - {response.text}\")\n",
    "\n",
    "        # Introduce a small delay between requests to avoid hitting rate limits\n",
    "        time.sleep(delay)  # Adjust delay as needed based on API guidelines\n",
    "\n",
    "    return artists_info"
   ]
  },
  {
   "cell_type": "code",
   "execution_count": null,
   "id": "73894637-0f59-47ef-af30-d4346996afdd",
   "metadata": {},
   "outputs": [],
   "source": [
    "# Now divide into chunk of 50 ids\n",
    "artist_ids = [uri.split(':')[-1] for uri in artist_uris]\n",
    "chunk_size = 50\n",
    "artist_chunks = [artist_ids[i:i+chunk_size] for i in range(0, len(artist_ids), chunk_size)]\n",
    "\n",
    "# Fetch artists' information in chunks\n",
    "artists_info = fetch_artists_info(artist_chunks, access_token)"
   ]
  },
  {
   "cell_type": "code",
   "execution_count": 168,
   "id": "9d021f97-35dd-4456-868d-a94743318514",
   "metadata": {},
   "outputs": [
    {
     "name": "stdout",
     "output_type": "stream",
     "text": [
      "('3jOstUTkEu2JkjvRdBA5Gu', ('Weezer', ['alternative rock', 'modern power pop', 'modern rock', 'permanent wave', 'rock'], {'href': None, 'total': 3604348}))\n"
     ]
    }
   ],
   "source": [
    "print((artists_info[0]['id'], (artists_info[0]['name'],artists_info[0]['genres'],artists_info[0]['followers'])))"
   ]
  },
  {
   "cell_type": "code",
   "execution_count": 302,
   "id": "f49c06c3-371e-4761-be8d-9fe82b84b915",
   "metadata": {},
   "outputs": [
    {
     "data": {
      "text/plain": [
       "10262"
      ]
     },
     "execution_count": 302,
     "metadata": {},
     "output_type": "execute_result"
    }
   ],
   "source": [
    "len(artists_info)"
   ]
  },
  {
   "cell_type": "code",
   "execution_count": 410,
   "id": "f738df90-baec-490e-b0ef-6a231a1f91f6",
   "metadata": {},
   "outputs": [
    {
     "name": "stdout",
     "output_type": "stream",
     "text": [
      "Stored 'artists_info' (list)\n"
     ]
    }
   ],
   "source": [
    "%store artists_info"
   ]
  },
  {
   "cell_type": "code",
   "execution_count": 304,
   "id": "dc091a3c-c859-4548-83ff-42b6931c52e6",
   "metadata": {
    "scrolled": true
   },
   "outputs": [
    {
     "data": {
      "text/html": [
       "<div>\n",
       "<style scoped>\n",
       "    .dataframe tbody tr th:only-of-type {\n",
       "        vertical-align: middle;\n",
       "    }\n",
       "\n",
       "    .dataframe tbody tr th {\n",
       "        vertical-align: top;\n",
       "    }\n",
       "\n",
       "    .dataframe thead th {\n",
       "        text-align: right;\n",
       "    }\n",
       "</style>\n",
       "<table border=\"1\" class=\"dataframe\">\n",
       "  <thead>\n",
       "    <tr style=\"text-align: right;\">\n",
       "      <th></th>\n",
       "      <th>external_urls</th>\n",
       "      <th>followers</th>\n",
       "      <th>genres</th>\n",
       "      <th>href</th>\n",
       "      <th>id</th>\n",
       "      <th>images</th>\n",
       "      <th>name</th>\n",
       "      <th>popularity</th>\n",
       "      <th>type</th>\n",
       "      <th>uri</th>\n",
       "    </tr>\n",
       "  </thead>\n",
       "  <tbody>\n",
       "    <tr>\n",
       "      <th>0</th>\n",
       "      <td>{'spotify': 'https://open.spotify.com/artist/3...</td>\n",
       "      <td>{'href': None, 'total': 3604348}</td>\n",
       "      <td>[alternative rock, modern power pop, modern ro...</td>\n",
       "      <td>https://api.spotify.com/v1/artists/3jOstUTkEu2...</td>\n",
       "      <td>3jOstUTkEu2JkjvRdBA5Gu</td>\n",
       "      <td>[{'height': 640, 'url': 'https://i.scdn.co/ima...</td>\n",
       "      <td>Weezer</td>\n",
       "      <td>73</td>\n",
       "      <td>artist</td>\n",
       "      <td>spotify:artist:3jOstUTkEu2JkjvRdBA5Gu</td>\n",
       "    </tr>\n",
       "    <tr>\n",
       "      <th>1</th>\n",
       "      <td>{'spotify': 'https://open.spotify.com/artist/2...</td>\n",
       "      <td>{'href': None, 'total': 3746249}</td>\n",
       "      <td>[modern alternative rock, modern rock, pov: in...</td>\n",
       "      <td>https://api.spotify.com/v1/artists/26T3LtbuGT1...</td>\n",
       "      <td>26T3LtbuGT1Fu9m0eRq5X3</td>\n",
       "      <td>[{'height': 640, 'url': 'https://i.scdn.co/ima...</td>\n",
       "      <td>Cage The Elephant</td>\n",
       "      <td>74</td>\n",
       "      <td>artist</td>\n",
       "      <td>spotify:artist:26T3LtbuGT1Fu9m0eRq5X3</td>\n",
       "    </tr>\n",
       "  </tbody>\n",
       "</table>\n",
       "</div>"
      ],
      "text/plain": [
       "                                       external_urls  \\\n",
       "0  {'spotify': 'https://open.spotify.com/artist/3...   \n",
       "1  {'spotify': 'https://open.spotify.com/artist/2...   \n",
       "\n",
       "                          followers  \\\n",
       "0  {'href': None, 'total': 3604348}   \n",
       "1  {'href': None, 'total': 3746249}   \n",
       "\n",
       "                                              genres  \\\n",
       "0  [alternative rock, modern power pop, modern ro...   \n",
       "1  [modern alternative rock, modern rock, pov: in...   \n",
       "\n",
       "                                                href                      id  \\\n",
       "0  https://api.spotify.com/v1/artists/3jOstUTkEu2...  3jOstUTkEu2JkjvRdBA5Gu   \n",
       "1  https://api.spotify.com/v1/artists/26T3LtbuGT1...  26T3LtbuGT1Fu9m0eRq5X3   \n",
       "\n",
       "                                              images               name  \\\n",
       "0  [{'height': 640, 'url': 'https://i.scdn.co/ima...             Weezer   \n",
       "1  [{'height': 640, 'url': 'https://i.scdn.co/ima...  Cage The Elephant   \n",
       "\n",
       "   popularity    type                                    uri  \n",
       "0          73  artist  spotify:artist:3jOstUTkEu2JkjvRdBA5Gu  \n",
       "1          74  artist  spotify:artist:26T3LtbuGT1Fu9m0eRq5X3  "
      ]
     },
     "execution_count": 304,
     "metadata": {},
     "output_type": "execute_result"
    }
   ],
   "source": [
    "artists_info_dataframe = pd.DataFrame(artists_info)\n",
    "artists_info_dataframe[:2]"
   ]
  },
  {
   "cell_type": "code",
   "execution_count": 405,
   "id": "3060f6ec-4388-482d-86b8-97c7f3f9dc39",
   "metadata": {},
   "outputs": [
    {
     "name": "stdout",
     "output_type": "stream",
     "text": [
      "Stored 'artists_info_dataframe' (DataFrame)\n"
     ]
    }
   ],
   "source": [
    "%store artists_info_dataframe"
   ]
  },
  {
   "cell_type": "markdown",
   "id": "c55ed4e5-dfd9-4b23-b5b3-1379c173049f",
   "metadata": {},
   "source": [
    "**Note:** Useful columns: artist_uri, artist_name, popularity, genres, followers. "
   ]
  },
  {
   "cell_type": "code",
   "execution_count": 306,
   "id": "a49bafa3-aa56-4eea-bb35-510a38df44a9",
   "metadata": {},
   "outputs": [],
   "source": [
    "#Create the table caled 'Artists'\n",
    "conn = sqlite3.connect('my.db')\n",
    "cur = conn.cursor()\n",
    "create_artists_table = '''\n",
    "CREATE TABLE IF NOT EXISTS Artists (\n",
    "    artist_uri TEXT PRIMARY KEY,\n",
    "    artist_name TEXT,\n",
    "    followers INTEGER,\n",
    "    genres TEXT,\n",
    "    popularity INTEGER\n",
    ")\n",
    "    '''\n",
    "cur.execute(create_artists_table)\n",
    "conn.commit()"
   ]
  },
  {
   "cell_type": "code",
   "execution_count": 307,
   "id": "7ada2a50-3b50-49a5-b0ea-49fadc16e917",
   "metadata": {},
   "outputs": [],
   "source": [
    "for artist in artists_info:\n",
    "    artist_uri = artist['uri']\n",
    "    artist_name = artist['name']\n",
    "    followers = artist['followers']['total']\n",
    "    genres = ', '.join(artist['genres']) if artist['genres'] else None  # Handle case where genres may be empty\n",
    "    popularity = artist['popularity']\n",
    "\n",
    "    # Insert data into table\n",
    "    cur.execute('''INSERT OR IGNORE INTO Artists \n",
    "                   (artist_uri, artist_name, followers, genres, popularity) \n",
    "                   VALUES (?, ?, ?, ?, ?)''', (artist_uri, artist_name, followers, genres, popularity))\n",
    "\n",
    "# Commit changes and close connection\n",
    "conn.commit()\n",
    "cur.close()\n",
    "conn.close()"
   ]
  },
  {
   "cell_type": "code",
   "execution_count": 310,
   "id": "c51ed1f4-fe7f-4d26-b4da-e2dc0ea2ab95",
   "metadata": {
    "scrolled": true
   },
   "outputs": [
    {
     "name": "stdout",
     "output_type": "stream",
     "text": [
      "Rank 1: Taylor Swift (Popularity: 100)\n",
      "Rank 2: Drake (Popularity: 94)\n",
      "Rank 3: Billie Eilish (Popularity: 94)\n",
      "Rank 4: Bad Bunny (Popularity: 94)\n",
      "Rank 5: The Weeknd (Popularity: 93)\n"
     ]
    }
   ],
   "source": [
    "# TRY TO RETREIEV INFO: TOP 5 POPULAR ARTISTS\n",
    "\n",
    "# Connect to SQLite database\n",
    "conn = sqlite3.connect('my.db')\n",
    "cur = conn.cursor()\n",
    "\n",
    "# Query to select top 5 popular artists\n",
    "query = '''\n",
    "    SELECT artist_name, popularity\n",
    "    FROM Artists\n",
    "    ORDER BY popularity DESC\n",
    "    LIMIT 5\n",
    "'''\n",
    "\n",
    "# Execute the query\n",
    "cur.execute(query)\n",
    "\n",
    "# Fetch all rows from the result set\n",
    "top_artists = cur.fetchall()\n",
    "\n",
    "# Print or process the results\n",
    "for rank, (artist_name, popularity) in enumerate(top_artists, start=1):\n",
    "    print(f\"Rank {rank}: {artist_name} (Popularity: {popularity})\")\n",
    "\n",
    "# Close the cursor and connection\n",
    "cur.close()\n",
    "conn.close()\n"
   ]
  },
  {
   "cell_type": "code",
   "execution_count": 308,
   "id": "49f34ebc-9fa4-49e5-b569-d2e2a3cb30c1",
   "metadata": {},
   "outputs": [
    {
     "name": "stdout",
     "output_type": "stream",
     "text": [
      "10238\n"
     ]
    }
   ],
   "source": [
    "#CHECK THE SIZE OF TABLE (NUMBER OF ROWS)\n",
    "conn = sqlite3.connect('my.db')\n",
    "# Create a cursor object using the connection\n",
    "cur = conn.cursor()\n",
    "\n",
    "cur.execute('SELECT COUNT(*) FROM Artists')\n",
    "row_count = cur.fetchone()[0]\n",
    "\n",
    "# Print the number of rows\n",
    "print(row_count)\n",
    "\n",
    "# Close the cursor and connection\n",
    "cur.close()\n",
    "conn.close()"
   ]
  },
  {
   "cell_type": "markdown",
   "id": "5853794d-04d7-4f37-be01-61de5eb61f67",
   "metadata": {
    "jp-MarkdownHeadingCollapsed": true
   },
   "source": [
    "### 5.3: Playlists_Tracks Tables"
   ]
  },
  {
   "cell_type": "code",
   "execution_count": 415,
   "id": "02347ba3-cd01-4a8c-8f1c-4340d82e7ab8",
   "metadata": {},
   "outputs": [
    {
     "data": {
      "text/plain": [
       "<sqlite3.Cursor at 0x7f4d7ee7eac0>"
      ]
     },
     "execution_count": 415,
     "metadata": {},
     "output_type": "execute_result"
    }
   ],
   "source": [
    "#CREATE\n",
    "conn = sqlite3.connect('my.db')\n",
    "cur = conn.cursor()\n",
    "\n",
    "create_playtrack_table = '''\n",
    "CREATE TABLE IF NOT EXISTS Playlists_Tracks (\n",
    "    pid INT,\n",
    "    track_uri TEXT,\n",
    "    pos INT,\n",
    "    FOREIGN KEY(pid) REFERENCES Playlists(pid),\n",
    "    FOREIGN KEY(track_uri) REFERENCES Tracks(track_uri),\n",
    "    PRIMARY KEY(pid, track_uri)\n",
    ")\n",
    "'''\n",
    "cur.execute(create_playtrack_table)"
   ]
  },
  {
   "cell_type": "code",
   "execution_count": 416,
   "id": "3602c1cf-bbfb-4081-81b4-4c09227caed0",
   "metadata": {},
   "outputs": [],
   "source": [
    "#INSERT VALUES INTO PLAYLISTS_TRACKS\n",
    "playlist_track_data=[]\n",
    "for playlist in playlists:\n",
    "    for track in playlist[\"tracks\"]:\n",
    "        playlist_track_data.append((\n",
    "            playlist['pid'],\n",
    "            track['track_uri'],\n",
    "            track['pos']\n",
    "        ))\n",
    "        \n",
    "insert_track = '''\n",
    "INSERT OR IGNORE INTO Playlists_Tracks (pid, track_uri, pos)\n",
    "VALUES (?, ?, ?)\n",
    "'''\n",
    "\n",
    "cur.executemany(insert_track, playlist_track_data)\n",
    "conn.commit()\n",
    "cur.close()\n",
    "conn.close()"
   ]
  },
  {
   "cell_type": "code",
   "execution_count": 417,
   "id": "895f2623-8aa2-4bf0-9bc8-ef18dff172f4",
   "metadata": {},
   "outputs": [
    {
     "name": "stdout",
     "output_type": "stream",
     "text": [
      "1584468\n"
     ]
    }
   ],
   "source": [
    "#CHECK THE SIZE OF TABLE (NUMBER OF ROWS)\n",
    "conn = sqlite3.connect('my.db')\n",
    "# Create a cursor object using the connection\n",
    "cur = conn.cursor()\n",
    "\n",
    "cur.execute('SELECT COUNT(*) FROM Playlists_Tracks')\n",
    "row_count = cur.fetchone()[0]\n",
    "\n",
    "# Print the number of rows\n",
    "print(row_count)\n",
    "\n",
    "# Close the cursor and connection\n",
    "cur.close()\n",
    "conn.close()"
   ]
  },
  {
   "cell_type": "markdown",
   "id": "10cdcd74-6416-4d0c-806f-d21fb45ea35c",
   "metadata": {
    "jp-MarkdownHeadingCollapsed": true
   },
   "source": [
    "### 5.4: Artists_Tracks Table"
   ]
  },
  {
   "cell_type": "code",
   "execution_count": 419,
   "id": "addf0b19-9998-4abc-9a68-efaf5338e0aa",
   "metadata": {},
   "outputs": [
    {
     "data": {
      "text/plain": [
       "<sqlite3.Cursor at 0x7f4d78ab17c0>"
      ]
     },
     "execution_count": 419,
     "metadata": {},
     "output_type": "execute_result"
    }
   ],
   "source": [
    "conn = sqlite3.connect('my.db')\n",
    "cur= conn.cursor()\n",
    "\n",
    "create_artists_tracks_table = '''\n",
    "CREATE TABLE IF NOT EXISTS TrackArtists (\n",
    "    track_uri TEXT,\n",
    "    artist_uri TEXT,\n",
    "    PRIMARY KEY (track_uri, artist_uri),\n",
    "    FOREIGN KEY (track_uri) REFERENCES Tracks(track_uri),\n",
    "    FOREIGN KEY (artist_uri) REFERENCES Artists(artist_uri)\n",
    ")\n",
    "'''\n",
    "cur.execute(create_artists_tracks_table )"
   ]
  },
  {
   "cell_type": "code",
   "execution_count": 421,
   "id": "60a85f4f-6813-429a-94b4-189fcd4903af",
   "metadata": {},
   "outputs": [],
   "source": [
    "#INSERT VALUES INTO PLAYLISTS_TRACKS\n",
    "track_artists_data=[]\n",
    "for data in combined_data:\n",
    "    track_artists_data.append((\n",
    "        data['artist_uri'],\n",
    "        data['track_uri']\n",
    "    ))\n",
    "    \n",
    "        \n",
    "        \n",
    "insert_track_artist = '''\n",
    "INSERT OR IGNORE INTO TrackArtists (track_uri, artist_uri)\n",
    "VALUES (?, ?)\n",
    "'''\n",
    "\n",
    "cur.executemany(insert_track_artist, track_artists_data)\n",
    "conn.commit()\n",
    "\n",
    "# Close the cursor and connection\n",
    "cur.close()\n",
    "conn.close()"
   ]
  },
  {
   "cell_type": "code",
   "execution_count": 422,
   "id": "7efa106d-f487-4f3f-afdf-d2e947125390",
   "metadata": {
    "jupyter": {
     "source_hidden": true
    }
   },
   "outputs": [
    {
     "name": "stdout",
     "output_type": "stream",
     "text": [
      "21517\n"
     ]
    }
   ],
   "source": [
    "#CHECK THE SIZE OF TABLE (NUMBER OF ROWS)\n",
    "conn = sqlite3.connect('my.db')\n",
    "# Create a cursor object using the connection\n",
    "cur = conn.cursor()\n",
    "\n",
    "cur.execute('SELECT COUNT(*) FROM TrackArtists')\n",
    "row_count = cur.fetchone()[0]\n",
    "\n",
    "# Print the number of rows\n",
    "print(row_count)\n",
    "\n",
    "# Close the cursor and connection\n",
    "cur.close()\n",
    "conn.close()"
   ]
  },
  {
   "cell_type": "markdown",
   "id": "beda67c9-dc6e-4ed8-94f2-98fced623ef1",
   "metadata": {},
   "source": [
    "## 5. CREATE RECOMMENDATION SYSTEM.\n",
    "**Approach 1:** KNN Algorithm. In this approach, we will take a given point (track's audio feature), and then predict the 5 nearest points to it (Euclidean Distance). "
   ]
  },
  {
   "cell_type": "markdown",
   "id": "82fdd89a-2034-49c4-bde7-e404431266dd",
   "metadata": {},
   "source": [
    "### 1. Loading The Data In Tracks Table ."
   ]
  },
  {
   "cell_type": "code",
   "execution_count": 428,
   "id": "1009443d-3773-4e9e-b47b-600a4361ae21",
   "metadata": {},
   "outputs": [],
   "source": [
    "import sqlite3\n",
    "import pandas as pd\n",
    "conn = sqlite3.connect('my.db')\n",
    "query = \"SELECT * FROM Tracks\"\n",
    "tracks_df = pd.read_sql_query(query, conn)\n",
    "\n",
    "conn.close()\n"
   ]
  },
  {
   "cell_type": "markdown",
   "id": "f8d844d5-ceb0-431f-82b7-a7b112de67b2",
   "metadata": {},
   "source": [
    "### 2. Preprocessing The Data\n",
    "* Extracts the audio features (like danceability, energy, etc.) from the track data.\n",
    "* Normalizes these features to ensure they are on a similar scale, which is necessary for calculating similarity."
   ]
  },
  {
   "cell_type": "code",
   "execution_count": 431,
   "id": "830fbb72-1ff8-410d-bac5-1d01fc57c607",
   "metadata": {},
   "outputs": [],
   "source": [
    "# Selecting only prefer audio feature \n",
    "selected_af= tracks_df[[ 'danceability', 'energy',\n",
    "       'key', 'loudness', 'mode', 'speechiness', 'acousticness',\n",
    "       'instrumentalness', 'liveness', 'valence', 'tempo']]"
   ]
  },
  {
   "cell_type": "code",
   "execution_count": 432,
   "id": "a91d022a-7164-4aa5-bfe6-035563b6c966",
   "metadata": {},
   "outputs": [],
   "source": [
    "# Normalize the data\n",
    "from sklearn.preprocessing import MinMaxScaler\n",
    "scaler = MinMaxScaler()\n",
    "selected_af_scaled = scaler.fit_transform(selected_af)"
   ]
  },
  {
   "cell_type": "code",
   "execution_count": 433,
   "id": "742aa272-5935-46f6-af45-4de2f10db5a5",
   "metadata": {},
   "outputs": [],
   "source": [
    "audio_features_scaled_df = pd.DataFrame(selected_af_scaled, columns=selected_af.columns)"
   ]
  },
  {
   "cell_type": "code",
   "execution_count": 435,
   "id": "bc2de3e5-c349-4db7-9499-22104e661377",
   "metadata": {},
   "outputs": [
    {
     "data": {
      "text/html": [
       "<div>\n",
       "<style scoped>\n",
       "    .dataframe tbody tr th:only-of-type {\n",
       "        vertical-align: middle;\n",
       "    }\n",
       "\n",
       "    .dataframe tbody tr th {\n",
       "        vertical-align: top;\n",
       "    }\n",
       "\n",
       "    .dataframe thead th {\n",
       "        text-align: right;\n",
       "    }\n",
       "</style>\n",
       "<table border=\"1\" class=\"dataframe\">\n",
       "  <thead>\n",
       "    <tr style=\"text-align: right;\">\n",
       "      <th></th>\n",
       "      <th>danceability</th>\n",
       "      <th>energy</th>\n",
       "      <th>key</th>\n",
       "      <th>loudness</th>\n",
       "      <th>mode</th>\n",
       "      <th>speechiness</th>\n",
       "      <th>acousticness</th>\n",
       "      <th>instrumentalness</th>\n",
       "      <th>liveness</th>\n",
       "      <th>valence</th>\n",
       "      <th>tempo</th>\n",
       "    </tr>\n",
       "  </thead>\n",
       "  <tbody>\n",
       "    <tr>\n",
       "      <th>0</th>\n",
       "      <td>0.642713</td>\n",
       "      <td>0.435</td>\n",
       "      <td>0.272727</td>\n",
       "      <td>0.811479</td>\n",
       "      <td>1.0</td>\n",
       "      <td>0.032124</td>\n",
       "      <td>0.003293</td>\n",
       "      <td>0.000007</td>\n",
       "      <td>0.071357</td>\n",
       "      <td>0.463636</td>\n",
       "      <td>0.321308</td>\n",
       "    </tr>\n",
       "    <tr>\n",
       "      <th>1</th>\n",
       "      <td>0.643725</td>\n",
       "      <td>0.676</td>\n",
       "      <td>0.181818</td>\n",
       "      <td>0.907469</td>\n",
       "      <td>1.0</td>\n",
       "      <td>0.027254</td>\n",
       "      <td>0.081024</td>\n",
       "      <td>0.000000</td>\n",
       "      <td>0.083518</td>\n",
       "      <td>0.275758</td>\n",
       "      <td>0.481257</td>\n",
       "    </tr>\n",
       "    <tr>\n",
       "      <th>2</th>\n",
       "      <td>0.491903</td>\n",
       "      <td>0.903</td>\n",
       "      <td>0.090909</td>\n",
       "      <td>0.904739</td>\n",
       "      <td>1.0</td>\n",
       "      <td>0.038549</td>\n",
       "      <td>0.000283</td>\n",
       "      <td>0.000056</td>\n",
       "      <td>0.131658</td>\n",
       "      <td>0.307071</td>\n",
       "      <td>0.557529</td>\n",
       "    </tr>\n",
       "    <tr>\n",
       "      <th>3</th>\n",
       "      <td>0.589069</td>\n",
       "      <td>0.677</td>\n",
       "      <td>0.636364</td>\n",
       "      <td>0.821834</td>\n",
       "      <td>1.0</td>\n",
       "      <td>0.178238</td>\n",
       "      <td>0.031325</td>\n",
       "      <td>0.000007</td>\n",
       "      <td>0.122613</td>\n",
       "      <td>0.207071</td>\n",
       "      <td>0.818357</td>\n",
       "    </tr>\n",
       "    <tr>\n",
       "      <th>4</th>\n",
       "      <td>0.764170</td>\n",
       "      <td>0.866</td>\n",
       "      <td>1.000000</td>\n",
       "      <td>0.896927</td>\n",
       "      <td>0.0</td>\n",
       "      <td>0.090155</td>\n",
       "      <td>0.440763</td>\n",
       "      <td>0.001330</td>\n",
       "      <td>0.258291</td>\n",
       "      <td>0.567677</td>\n",
       "      <td>0.460209</td>\n",
       "    </tr>\n",
       "  </tbody>\n",
       "</table>\n",
       "</div>"
      ],
      "text/plain": [
       "   danceability  energy       key  loudness  mode  speechiness  acousticness  \\\n",
       "0      0.642713   0.435  0.272727  0.811479   1.0     0.032124      0.003293   \n",
       "1      0.643725   0.676  0.181818  0.907469   1.0     0.027254      0.081024   \n",
       "2      0.491903   0.903  0.090909  0.904739   1.0     0.038549      0.000283   \n",
       "3      0.589069   0.677  0.636364  0.821834   1.0     0.178238      0.031325   \n",
       "4      0.764170   0.866  1.000000  0.896927   0.0     0.090155      0.440763   \n",
       "\n",
       "   instrumentalness  liveness   valence     tempo  \n",
       "0          0.000007  0.071357  0.463636  0.321308  \n",
       "1          0.000000  0.083518  0.275758  0.481257  \n",
       "2          0.000056  0.131658  0.307071  0.557529  \n",
       "3          0.000007  0.122613  0.207071  0.818357  \n",
       "4          0.001330  0.258291  0.567677  0.460209  "
      ]
     },
     "execution_count": 435,
     "metadata": {},
     "output_type": "execute_result"
    }
   ],
   "source": [
    "audio_features_scaled_df.head()"
   ]
  },
  {
   "cell_type": "markdown",
   "id": "1bcfbaab-b6ec-4466-b673-c7bf3f90e1f9",
   "metadata": {},
   "source": [
    "### 3. Select 10 playlists and Calcuate The Centroids of Each PLaylist\n",
    "* 1. It’s going through each playlist ID in a list of selected playlist IDs.\n",
    "* 2. For each playlist ID, select correspond playlist\n",
    "* 3. for each playlist, select track_uri \n",
    "* 4. Find the correspond track features in tracks_df(danceability, liveness, ,...) in a playlist\n",
    "* 5. Calcuate the mean of all track's audio feature ( mean of danceability, mean of liveness,...)\n",
    "* 6. Store this centroid in a dictionary, using the playlist ID as the key"
   ]
  },
  {
   "cell_type": "code",
   "execution_count": 454,
   "id": "7b03601b-2a8d-4657-9cab-a7bf2435d1e3",
   "metadata": {},
   "outputs": [],
   "source": [
    "selected_playlists= playlists[:10]"
   ]
  },
  {
   "cell_type": "code",
   "execution_count": 475,
   "id": "b743f49d-801d-4af1-902d-c492accd50bb",
   "metadata": {},
   "outputs": [
    {
     "data": {
      "text/plain": [
       "[57000, 57001, 57002, 57003, 57004, 57005, 57006, 57007, 57008, 57009]"
      ]
     },
     "execution_count": 475,
     "metadata": {},
     "output_type": "execute_result"
    }
   ],
   "source": [
    "first_10_playlist_ids = [playlist['pid'] for playlist in selected_playlists[:10]]\n",
    "first_10_playlist_ids"
   ]
  },
  {
   "cell_type": "code",
   "execution_count": 469,
   "id": "281ae558-0fba-4adb-812e-ded353583de4",
   "metadata": {},
   "outputs": [],
   "source": [
    "playlist_centroids = {}\n",
    "\n",
    "for playlist_id in first_10_playlist_ids:\n",
    "    # Find the playlist in the playlists list\n",
    "    playlist = next((p for p in playlists if p['pid'] == playlist_id), None)\n",
    "    \n",
    "    if playlist:\n",
    "        # Extract track URIs from the playlist\n",
    "        track_uris = [track['track_uri'] for track in playlist['tracks']]\n",
    "        \n",
    "        # Filter tracks_df based on track URIs\n",
    "        playlist_tracks = audio_features_scaled_df[tracks_df['track_uri'].isin(track_uris)]\n",
    "        \n",
    "        # Calculate centroid (average feature vector) for the playlist\n",
    "        playlist_centroid = playlist_tracks.mean(axis=0)\n",
    "        \n",
    "        # Store centroid in dictionary\n",
    "        playlist_centroids[playlist_id] = playlist_centroid\n"
   ]
  },
  {
   "cell_type": "code",
   "execution_count": 474,
   "id": "3fbbe4c6-596c-4483-9dba-4b17d79f40b4",
   "metadata": {
    "scrolled": true
   },
   "outputs": [
    {
     "name": "stdout",
     "output_type": "stream",
     "text": [
      "Playlist ID: 57000\n",
      "danceability        0.603606\n",
      "energy              0.663870\n",
      "key                 0.504611\n",
      "loudness            0.813922\n",
      "mode                0.681159\n",
      "speechiness         0.077738\n",
      "acousticness        0.203282\n",
      "instrumentalness    0.054247\n",
      "liveness            0.191071\n",
      "valence             0.524297\n",
      "tempo               0.515215\n",
      "dtype: float64\n",
      "\n",
      "Playlist ID: 57001\n",
      "danceability        0.538682\n",
      "energy              0.669243\n",
      "key                 0.446640\n",
      "loudness            0.785865\n",
      "mode                0.869565\n",
      "speechiness         0.063289\n",
      "acousticness        0.169835\n",
      "instrumentalness    0.139514\n",
      "liveness            0.148835\n",
      "valence             0.539521\n",
      "tempo               0.539656\n",
      "dtype: float64\n",
      "\n",
      "Playlist ID: 57002\n",
      "danceability        0.583300\n",
      "energy              0.678009\n",
      "key                 0.477686\n",
      "loudness            0.790773\n",
      "mode                0.727273\n",
      "speechiness         0.071395\n",
      "acousticness        0.227097\n",
      "instrumentalness    0.070545\n",
      "liveness            0.202267\n",
      "valence             0.566889\n",
      "tempo               0.530627\n",
      "dtype: float64\n",
      "\n",
      "Playlist ID: 57003\n",
      "danceability        0.625000\n",
      "energy              0.643593\n",
      "key                 0.324675\n",
      "loudness            0.807141\n",
      "mode                0.857143\n",
      "speechiness         0.090533\n",
      "acousticness        0.411013\n",
      "instrumentalness    0.118911\n",
      "liveness            0.198248\n",
      "valence             0.477778\n",
      "tempo               0.472411\n",
      "dtype: float64\n",
      "\n",
      "Playlist ID: 57004\n",
      "danceability        0.596449\n",
      "energy              0.615488\n",
      "key                 0.477273\n",
      "loudness            0.768330\n",
      "mode                0.666667\n",
      "speechiness         0.072215\n",
      "acousticness        0.285133\n",
      "instrumentalness    0.114837\n",
      "liveness            0.194778\n",
      "valence             0.485690\n",
      "tempo               0.529804\n",
      "dtype: float64\n",
      "\n",
      "Playlist ID: 57005\n",
      "danceability        0.490457\n",
      "energy              0.510786\n",
      "key                 0.415584\n",
      "loudness            0.799945\n",
      "mode                0.785714\n",
      "speechiness         0.036247\n",
      "acousticness        0.419550\n",
      "instrumentalness    0.054533\n",
      "liveness            0.131141\n",
      "valence             0.439199\n",
      "tempo               0.554371\n",
      "dtype: float64\n",
      "\n",
      "Playlist ID: 57006\n",
      "danceability        0.491228\n",
      "energy              0.394250\n",
      "key                 0.507576\n",
      "loudness            0.735019\n",
      "mode                0.666667\n",
      "speechiness         0.035130\n",
      "acousticness        0.667335\n",
      "instrumentalness    0.463867\n",
      "liveness            0.132990\n",
      "valence             0.294949\n",
      "tempo               0.508919\n",
      "dtype: float64\n",
      "\n",
      "Playlist ID: 57007\n",
      "danceability        0.545058\n",
      "energy              0.521950\n",
      "key                 0.465517\n",
      "loudness            0.763914\n",
      "mode                0.793103\n",
      "speechiness         0.047956\n",
      "acousticness        0.396706\n",
      "instrumentalness    0.133664\n",
      "liveness            0.192767\n",
      "valence             0.460794\n",
      "tempo               0.510241\n",
      "dtype: float64\n",
      "\n",
      "Playlist ID: 57008\n",
      "danceability        0.535407\n",
      "energy              0.620486\n",
      "key                 0.524351\n",
      "loudness            0.808181\n",
      "mode                0.696429\n",
      "speechiness         0.070946\n",
      "acousticness        0.269459\n",
      "instrumentalness    0.067221\n",
      "liveness            0.178964\n",
      "valence             0.477166\n",
      "tempo               0.499038\n",
      "dtype: float64\n",
      "\n",
      "Playlist ID: 57009\n",
      "danceability        0.547012\n",
      "energy              0.581623\n",
      "key                 0.443357\n",
      "loudness            0.774052\n",
      "mode                0.661538\n",
      "speechiness         0.061041\n",
      "acousticness        0.343021\n",
      "instrumentalness    0.201234\n",
      "liveness            0.197968\n",
      "valence             0.444584\n",
      "tempo               0.518342\n",
      "dtype: float64\n",
      "\n"
     ]
    }
   ],
   "source": [
    "for pid, centroid in playlist_centroids.items():\n",
    "    print(f\"Playlist ID: {pid}\")\n",
    "    print(centroid)\n",
    "    print()"
   ]
  },
  {
   "cell_type": "code",
   "execution_count": 487,
   "id": "04d94535-2a61-4424-a4f1-5aa22a4bcb99",
   "metadata": {
    "scrolled": true
   },
   "outputs": [
    {
     "data": {
      "text/html": [
       "<div>\n",
       "<style scoped>\n",
       "    .dataframe tbody tr th:only-of-type {\n",
       "        vertical-align: middle;\n",
       "    }\n",
       "\n",
       "    .dataframe tbody tr th {\n",
       "        vertical-align: top;\n",
       "    }\n",
       "\n",
       "    .dataframe thead th {\n",
       "        text-align: right;\n",
       "    }\n",
       "</style>\n",
       "<table border=\"1\" class=\"dataframe\">\n",
       "  <thead>\n",
       "    <tr style=\"text-align: right;\">\n",
       "      <th></th>\n",
       "      <th>danceability</th>\n",
       "      <th>energy</th>\n",
       "      <th>key</th>\n",
       "      <th>loudness</th>\n",
       "      <th>mode</th>\n",
       "      <th>speechiness</th>\n",
       "      <th>acousticness</th>\n",
       "      <th>instrumentalness</th>\n",
       "      <th>liveness</th>\n",
       "      <th>valence</th>\n",
       "      <th>tempo</th>\n",
       "    </tr>\n",
       "  </thead>\n",
       "  <tbody>\n",
       "    <tr>\n",
       "      <th>57000</th>\n",
       "      <td>0.603606</td>\n",
       "      <td>0.663870</td>\n",
       "      <td>0.504611</td>\n",
       "      <td>0.813922</td>\n",
       "      <td>0.681159</td>\n",
       "      <td>0.077738</td>\n",
       "      <td>0.203282</td>\n",
       "      <td>0.054247</td>\n",
       "      <td>0.191071</td>\n",
       "      <td>0.524297</td>\n",
       "      <td>0.515215</td>\n",
       "    </tr>\n",
       "    <tr>\n",
       "      <th>57001</th>\n",
       "      <td>0.538682</td>\n",
       "      <td>0.669243</td>\n",
       "      <td>0.446640</td>\n",
       "      <td>0.785865</td>\n",
       "      <td>0.869565</td>\n",
       "      <td>0.063289</td>\n",
       "      <td>0.169835</td>\n",
       "      <td>0.139514</td>\n",
       "      <td>0.148835</td>\n",
       "      <td>0.539521</td>\n",
       "      <td>0.539656</td>\n",
       "    </tr>\n",
       "    <tr>\n",
       "      <th>57002</th>\n",
       "      <td>0.583300</td>\n",
       "      <td>0.678009</td>\n",
       "      <td>0.477686</td>\n",
       "      <td>0.790773</td>\n",
       "      <td>0.727273</td>\n",
       "      <td>0.071395</td>\n",
       "      <td>0.227097</td>\n",
       "      <td>0.070545</td>\n",
       "      <td>0.202267</td>\n",
       "      <td>0.566889</td>\n",
       "      <td>0.530627</td>\n",
       "    </tr>\n",
       "    <tr>\n",
       "      <th>57003</th>\n",
       "      <td>0.625000</td>\n",
       "      <td>0.643593</td>\n",
       "      <td>0.324675</td>\n",
       "      <td>0.807141</td>\n",
       "      <td>0.857143</td>\n",
       "      <td>0.090533</td>\n",
       "      <td>0.411013</td>\n",
       "      <td>0.118911</td>\n",
       "      <td>0.198248</td>\n",
       "      <td>0.477778</td>\n",
       "      <td>0.472411</td>\n",
       "    </tr>\n",
       "    <tr>\n",
       "      <th>57004</th>\n",
       "      <td>0.596449</td>\n",
       "      <td>0.615488</td>\n",
       "      <td>0.477273</td>\n",
       "      <td>0.768330</td>\n",
       "      <td>0.666667</td>\n",
       "      <td>0.072215</td>\n",
       "      <td>0.285133</td>\n",
       "      <td>0.114837</td>\n",
       "      <td>0.194778</td>\n",
       "      <td>0.485690</td>\n",
       "      <td>0.529804</td>\n",
       "    </tr>\n",
       "    <tr>\n",
       "      <th>57005</th>\n",
       "      <td>0.490457</td>\n",
       "      <td>0.510786</td>\n",
       "      <td>0.415584</td>\n",
       "      <td>0.799945</td>\n",
       "      <td>0.785714</td>\n",
       "      <td>0.036247</td>\n",
       "      <td>0.419550</td>\n",
       "      <td>0.054533</td>\n",
       "      <td>0.131141</td>\n",
       "      <td>0.439199</td>\n",
       "      <td>0.554371</td>\n",
       "    </tr>\n",
       "    <tr>\n",
       "      <th>57006</th>\n",
       "      <td>0.491228</td>\n",
       "      <td>0.394250</td>\n",
       "      <td>0.507576</td>\n",
       "      <td>0.735019</td>\n",
       "      <td>0.666667</td>\n",
       "      <td>0.035130</td>\n",
       "      <td>0.667335</td>\n",
       "      <td>0.463867</td>\n",
       "      <td>0.132990</td>\n",
       "      <td>0.294949</td>\n",
       "      <td>0.508919</td>\n",
       "    </tr>\n",
       "    <tr>\n",
       "      <th>57007</th>\n",
       "      <td>0.545058</td>\n",
       "      <td>0.521950</td>\n",
       "      <td>0.465517</td>\n",
       "      <td>0.763914</td>\n",
       "      <td>0.793103</td>\n",
       "      <td>0.047956</td>\n",
       "      <td>0.396706</td>\n",
       "      <td>0.133664</td>\n",
       "      <td>0.192767</td>\n",
       "      <td>0.460794</td>\n",
       "      <td>0.510241</td>\n",
       "    </tr>\n",
       "    <tr>\n",
       "      <th>57008</th>\n",
       "      <td>0.535407</td>\n",
       "      <td>0.620486</td>\n",
       "      <td>0.524351</td>\n",
       "      <td>0.808181</td>\n",
       "      <td>0.696429</td>\n",
       "      <td>0.070946</td>\n",
       "      <td>0.269459</td>\n",
       "      <td>0.067221</td>\n",
       "      <td>0.178964</td>\n",
       "      <td>0.477166</td>\n",
       "      <td>0.499038</td>\n",
       "    </tr>\n",
       "    <tr>\n",
       "      <th>57009</th>\n",
       "      <td>0.547012</td>\n",
       "      <td>0.581623</td>\n",
       "      <td>0.443357</td>\n",
       "      <td>0.774052</td>\n",
       "      <td>0.661538</td>\n",
       "      <td>0.061041</td>\n",
       "      <td>0.343021</td>\n",
       "      <td>0.201234</td>\n",
       "      <td>0.197968</td>\n",
       "      <td>0.444584</td>\n",
       "      <td>0.518342</td>\n",
       "    </tr>\n",
       "  </tbody>\n",
       "</table>\n",
       "</div>"
      ],
      "text/plain": [
       "       danceability    energy       key  loudness      mode  speechiness  \\\n",
       "57000      0.603606  0.663870  0.504611  0.813922  0.681159     0.077738   \n",
       "57001      0.538682  0.669243  0.446640  0.785865  0.869565     0.063289   \n",
       "57002      0.583300  0.678009  0.477686  0.790773  0.727273     0.071395   \n",
       "57003      0.625000  0.643593  0.324675  0.807141  0.857143     0.090533   \n",
       "57004      0.596449  0.615488  0.477273  0.768330  0.666667     0.072215   \n",
       "57005      0.490457  0.510786  0.415584  0.799945  0.785714     0.036247   \n",
       "57006      0.491228  0.394250  0.507576  0.735019  0.666667     0.035130   \n",
       "57007      0.545058  0.521950  0.465517  0.763914  0.793103     0.047956   \n",
       "57008      0.535407  0.620486  0.524351  0.808181  0.696429     0.070946   \n",
       "57009      0.547012  0.581623  0.443357  0.774052  0.661538     0.061041   \n",
       "\n",
       "       acousticness  instrumentalness  liveness   valence     tempo  \n",
       "57000      0.203282          0.054247  0.191071  0.524297  0.515215  \n",
       "57001      0.169835          0.139514  0.148835  0.539521  0.539656  \n",
       "57002      0.227097          0.070545  0.202267  0.566889  0.530627  \n",
       "57003      0.411013          0.118911  0.198248  0.477778  0.472411  \n",
       "57004      0.285133          0.114837  0.194778  0.485690  0.529804  \n",
       "57005      0.419550          0.054533  0.131141  0.439199  0.554371  \n",
       "57006      0.667335          0.463867  0.132990  0.294949  0.508919  \n",
       "57007      0.396706          0.133664  0.192767  0.460794  0.510241  \n",
       "57008      0.269459          0.067221  0.178964  0.477166  0.499038  \n",
       "57009      0.343021          0.201234  0.197968  0.444584  0.518342  "
      ]
     },
     "execution_count": 487,
     "metadata": {},
     "output_type": "execute_result"
    }
   ],
   "source": [
    "centroids_df = pd.DataFrame.from_dict(playlist_centroids, orient='index', columns=selected_af.columns)\n",
    "centroids_df\n"
   ]
  },
  {
   "cell_type": "code",
   "execution_count": 488,
   "id": "ad80b515-35c5-41bb-85a1-2b8a571ebb3f",
   "metadata": {},
   "outputs": [
    {
     "ename": "ImportError",
     "evalue": "cannot import name 'sort_graph_by_row_values' from 'sklearn.neighbors._base' (/home/student/ttngo/.local/lib/python3.11/site-packages/sklearn/neighbors/_base.py)",
     "output_type": "error",
     "traceback": [
      "\u001b[0;31m---------------------------------------------------------------------------\u001b[0m",
      "\u001b[0;31mImportError\u001b[0m                               Traceback (most recent call last)",
      "Cell \u001b[0;32mIn [488], line 1\u001b[0m\n\u001b[0;32m----> 1\u001b[0m \u001b[38;5;28;01mfrom\u001b[39;00m \u001b[38;5;21;01msklearn\u001b[39;00m\u001b[38;5;21;01m.\u001b[39;00m\u001b[38;5;21;01mneighbors\u001b[39;00m \u001b[38;5;28;01mimport\u001b[39;00m NearestNeighbors\n\u001b[1;32m      2\u001b[0m knn_model \u001b[38;5;241m=\u001b[39m NearestNeighbors(n_neighbors\u001b[38;5;241m=\u001b[39m\u001b[38;5;241m5\u001b[39m, metric\u001b[38;5;241m=\u001b[39m\u001b[38;5;124m'\u001b[39m\u001b[38;5;124meuclidean\u001b[39m\u001b[38;5;124m'\u001b[39m)  \n\u001b[1;32m      3\u001b[0m knn_model\u001b[38;5;241m.\u001b[39mfit(audio_features_scaled_df)\n",
      "File \u001b[0;32m~/.local/lib/python3.11/site-packages/sklearn/neighbors/__init__.py:4\u001b[0m\n\u001b[1;32m      1\u001b[0m \u001b[38;5;124;03m\"\"\"The k-nearest neighbors algorithms.\"\"\"\u001b[39;00m\n\u001b[1;32m      3\u001b[0m \u001b[38;5;28;01mfrom\u001b[39;00m \u001b[38;5;21;01m.\u001b[39;00m\u001b[38;5;21;01m_ball_tree\u001b[39;00m \u001b[38;5;28;01mimport\u001b[39;00m BallTree\n\u001b[0;32m----> 4\u001b[0m \u001b[38;5;28;01mfrom\u001b[39;00m \u001b[38;5;21;01m.\u001b[39;00m\u001b[38;5;21;01m_base\u001b[39;00m \u001b[38;5;28;01mimport\u001b[39;00m VALID_METRICS, VALID_METRICS_SPARSE, sort_graph_by_row_values\n\u001b[1;32m      5\u001b[0m \u001b[38;5;28;01mfrom\u001b[39;00m \u001b[38;5;21;01m.\u001b[39;00m\u001b[38;5;21;01m_classification\u001b[39;00m \u001b[38;5;28;01mimport\u001b[39;00m KNeighborsClassifier, RadiusNeighborsClassifier\n\u001b[1;32m      6\u001b[0m \u001b[38;5;28;01mfrom\u001b[39;00m \u001b[38;5;21;01m.\u001b[39;00m\u001b[38;5;21;01m_graph\u001b[39;00m \u001b[38;5;28;01mimport\u001b[39;00m (\n\u001b[1;32m      7\u001b[0m     KNeighborsTransformer,\n\u001b[1;32m      8\u001b[0m     RadiusNeighborsTransformer,\n\u001b[1;32m      9\u001b[0m     kneighbors_graph,\n\u001b[1;32m     10\u001b[0m     radius_neighbors_graph,\n\u001b[1;32m     11\u001b[0m )\n",
      "\u001b[0;31mImportError\u001b[0m: cannot import name 'sort_graph_by_row_values' from 'sklearn.neighbors._base' (/home/student/ttngo/.local/lib/python3.11/site-packages/sklearn/neighbors/_base.py)"
     ]
    }
   ],
   "source": [
    "from sklearn.neighbors import NearestNeighbors\n",
    "knn_model = NearestNeighbors(n_neighbors=5, metric='euclidean')  \n",
    "knn_model.fit(audio_features_scaled_df)               "
   ]
  },
  {
   "cell_type": "code",
   "execution_count": null,
   "id": "4d53360a-2a13-4c16-a697-e203336df6a5",
   "metadata": {},
   "outputs": [],
   "source": [
    "recommended_tracks = {}\n",
    "\n",
    "for playlist_id, centroid in centroids_df.iterrows():\n",
    "    # Reshape centroid to match expected input for kneighbors\n",
    "    centroid_array = np.array(centroid).reshape(1, -1)\n",
    "    \n",
    "    # Find nearest neighbors\n",
    "    distances, indices = knn_model.kneighbors(centroid_array)\n",
    "\n",
    "    recommended_tracks[playlist_id] = indices.flatten()[1:]  # Exclude the first index\n",
    "    \n",
    "# Output recommended tracks (indices)\n",
    "for playlist_id, tracks_indices in recommended_tracks.items():\n",
    "    print(f\"Playlist ID: {playlist_id}\")\n",
    "    print(\"Recommended Track Indices:\", tracks_indices)\n",
    "    print(\"Recommended Tracks:\")\n",
    "    print(tracks_df.iloc[tracks_indices][['track_uri', 'track_name']])\n",
    "    print()"
   ]
  }
 ],
 "metadata": {
  "kernelspec": {
   "display_name": "Python 3",
   "language": "python",
   "name": "python3"
  },
  "language_info": {
   "codemirror_mode": {
    "name": "ipython",
    "version": 3
   },
   "file_extension": ".py",
   "mimetype": "text/x-python",
   "name": "python",
   "nbconvert_exporter": "python",
   "pygments_lexer": "ipython3",
   "version": "3.11.6"
  }
 },
 "nbformat": 4,
 "nbformat_minor": 5
}
